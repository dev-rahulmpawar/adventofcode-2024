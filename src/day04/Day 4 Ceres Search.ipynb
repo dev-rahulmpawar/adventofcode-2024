{
 "cells": [
  {
   "cell_type": "code",
   "execution_count": 1,
   "id": "7e82f365-c6aa-42f8-92f6-e27455bd2bbd",
   "metadata": {},
   "outputs": [
    {
     "name": "stdout",
     "output_type": "stream",
     "text": [
      "cwd  :  /home/rahulsunita/workspace/adventofcode-2024/src/day04\n",
      "root :  /home/rahulsunita/workspace/adventofcode-2024\n"
     ]
    }
   ],
   "source": [
    "import os\n",
    "cwd = os.getcwd()\n",
    "root = os.path.dirname(os.path.dirname(cwd))\n",
    "import sys\n",
    "sys.path.append(root)\n",
    "\n",
    "print(\"cwd  : \", cwd)\n",
    "print(\"root : \", root)"
   ]
  },
  {
   "cell_type": "code",
   "execution_count": 2,
   "id": "53ddeae9-9f48-4924-89d9-ba045b069c0f",
   "metadata": {},
   "outputs": [
    {
     "name": "stdout",
     "output_type": "stream",
     "text": [
      "['listFuncs', 'load_input_lines', 'printDict', 'printSingleNumList']\n",
      "['Cell', 'IndexedCell', 'IndexedMatrix', 'Matrix', 'six']\n"
     ]
    }
   ],
   "source": [
    "import six\n",
    "from src.libs.utils import *\n",
    "from src.libs.matrix_ds import *"
   ]
  },
  {
   "cell_type": "markdown",
   "id": "0dfb9104-1c92-481d-bb66-279774315bc8",
   "metadata": {},
   "source": [
    "#### Part 1 Sample"
   ]
  },
  {
   "cell_type": "code",
   "execution_count": 3,
   "id": "7b0d9dd6-bca9-4224-b21c-ce3396bd6893",
   "metadata": {},
   "outputs": [
    {
     "name": "stdout",
     "output_type": "stream",
     "text": [
      "MMMSXXMASM\n",
      "MSAMXMSMSA\n",
      "AMXSXMAAMM\n",
      "MSAMASMSMX\n",
      "XMASAMXAMM\n",
      "XXAMMXXAMA\n",
      "SMSMSASXSS\n",
      "SAXAMASAAA\n",
      "MAMMMXMMMM\n",
      "MXMXAXMASX\n"
     ]
    }
   ],
   "source": [
    "input_file = \"input1.txt\"\n",
    "ex1_data = load_input_lines(os.path.join(cwd, \"inputs\", input_file))\n",
    "ex1_expected = 18"
   ]
  },
  {
   "cell_type": "code",
   "execution_count": 4,
   "id": "2c77691f-4a49-4a03-aef2-fbc1e80c223c",
   "metadata": {},
   "outputs": [],
   "source": [
    "class IndexedCell(Cell):\n",
    "    INDEX_COUNT = 0\n",
    "    \n",
    "    def __init__(self, *args, **kwargs):\n",
    "        super(IndexedCell, self).__init__(*args, **kwargs)\n",
    "        self.index = IndexedCell.INDEX_COUNT\n",
    "        IndexedCell.INDEX_COUNT += 1\n",
    "            \n",
    "    def printData(self):\n",
    "        return (self.index, self.data)\n",
    "        \n",
    "class IndexedMatrix(Matrix):\n",
    "    CELL_TYPE = IndexedCell\n",
    "    def __init__(self, *args, **kwargs):\n",
    "        IndexedCell.INDEX_COUNT = 0\n",
    "        super(IndexedMatrix, self).__init__(*args, **kwargs)"
   ]
  },
  {
   "cell_type": "code",
   "execution_count": 5,
   "id": "4e21c059-8dfa-4694-9a72-86874275f49a",
   "metadata": {},
   "outputs": [
    {
     "name": "stdout",
     "output_type": "stream",
     "text": [
      "(0, 'M') (1, 'M') (2, 'M') (3, 'S') (4, 'X') (5, 'X') (6, 'M') (7, 'A') (8, 'S') (9, 'M') \n",
      "\n",
      "(10, 'M') (11, 'S') (12, 'A') (13, 'M') (14, 'X') (15, 'M') (16, 'S') (17, 'M') (18, 'S') (19, 'A') \n",
      "\n",
      "(20, 'A') (21, 'M') (22, 'X') (23, 'S') (24, 'X') (25, 'M') (26, 'A') (27, 'A') (28, 'M') (29, 'M') \n",
      "\n",
      "(30, 'M') (31, 'S') (32, 'A') (33, 'M') (34, 'A') (35, 'S') (36, 'M') (37, 'S') (38, 'M') (39, 'X') \n",
      "\n",
      "(40, 'X') (41, 'M') (42, 'A') (43, 'S') (44, 'A') (45, 'M') (46, 'X') (47, 'A') (48, 'M') (49, 'M') \n",
      "\n",
      "(50, 'X') (51, 'X') (52, 'A') (53, 'M') (54, 'M') (55, 'X') (56, 'X') (57, 'A') (58, 'M') (59, 'A') \n",
      "\n",
      "(60, 'S') (61, 'M') (62, 'S') (63, 'M') (64, 'S') (65, 'A') (66, 'S') (67, 'X') (68, 'S') (69, 'S') \n",
      "\n",
      "(70, 'S') (71, 'A') (72, 'X') (73, 'A') (74, 'M') (75, 'A') (76, 'S') (77, 'A') (78, 'A') (79, 'A') \n",
      "\n",
      "(80, 'M') (81, 'A') (82, 'M') (83, 'M') (84, 'M') (85, 'X') (86, 'M') (87, 'M') (88, 'M') (89, 'M') \n",
      "\n",
      "(90, 'M') (91, 'X') (92, 'M') (93, 'X') (94, 'A') (95, 'X') (96, 'M') (97, 'A') (98, 'S') (99, 'X') \n",
      "\n"
     ]
    }
   ],
   "source": [
    "# load data into matrix\n",
    "ex1_data1 = IndexedMatrix(ex1_data)\n",
    "ex1_data1.print()"
   ]
  },
  {
   "cell_type": "code",
   "execution_count": 6,
   "id": "b66dd5b0-5860-4fbe-8fc0-dd421987dc13",
   "metadata": {},
   "outputs": [
    {
     "name": "stdout",
     "output_type": "stream",
     "text": [
      "(4, 15, 26, 37): ('X', 'M', 'A', 'S')\n",
      "(5, 6, 7, 8): ('X', 'M', 'A', 'S')\n",
      "(11, 12, 13, 14): ('X', 'M', 'A', 'S')\n",
      "(39, 49, 59, 69): ('X', 'M', 'A', 'S')\n",
      "(39, 48, 57, 66): ('X', 'M', 'A', 'S')\n",
      "(40, 41, 42, 43): ('X', 'M', 'A', 'S')\n",
      "(43, 44, 45, 46): ('X', 'M', 'A', 'S')\n",
      "(16, 26, 36, 46): ('X', 'M', 'A', 'S')\n",
      "(23, 32, 41, 50): ('X', 'M', 'A', 'S')\n",
      "(23, 34, 45, 56): ('X', 'M', 'A', 'S')\n",
      "(64, 73, 82, 91): ('X', 'M', 'A', 'S')\n",
      ".\n",
      ".\n",
      ".\n",
      "\n",
      "8 more.\n"
     ]
    }
   ],
   "source": [
    "# search for XMAS\n",
    "ex1_data1.fetchNeighbors()\n",
    "\n",
    "searchWord = 'XMAS'\n",
    "ex1_data2 = {}\n",
    "for searchText in [searchWord, searchWord[::-1]]:\n",
    "    for rIndx in range(ex1_data1.rows):\n",
    "        for cIndx in range(ex1_data1.cols):\n",
    "            XCell = ex1_data1.cellAt(rIndx, cIndx)\n",
    "            #find cell with 'X'\n",
    "            if XCell.data == searchText[0]:\n",
    "                #find neighbor with 'M'\n",
    "                m_neighbors = {item: cell for item, cell in six.iteritems(XCell.neighbors) if cell.data == searchText[1]}\n",
    "                for MDir, MCell in six.iteritems(m_neighbors):\n",
    "                    #check neighbor with 'A' exists in same dir\n",
    "                    if MDir in MCell.neighbors and MCell.neighbors[MDir].data == searchText[2]:\n",
    "                        ACell = MCell.neighbors[MDir]\n",
    "                        #check neighbor with 'S' exists in same dir\n",
    "                        if MDir in ACell.neighbors and ACell.neighbors[MDir].data == searchText[3]:\n",
    "                            SCell = ACell.neighbors[MDir]\n",
    "                            xmas_key = tuple(sorted([XCell.index, MCell.index, ACell.index, SCell.index]))                        \n",
    "                            if xmas_key not in ex1_data2:\n",
    "                                ex1_data2[xmas_key] = (XCell.data, MCell.data, ACell.data, SCell.data)\n",
    "                    \n",
    "printDict(ex1_data2)"
   ]
  },
  {
   "cell_type": "code",
   "execution_count": 7,
   "id": "d3935d96-4114-427f-a413-ac1af4b7544d",
   "metadata": {},
   "outputs": [
    {
     "data": {
      "text/plain": [
       "18"
      ]
     },
     "execution_count": 7,
     "metadata": {},
     "output_type": "execute_result"
    }
   ],
   "source": [
    "ex1_data3 = len(ex1_data2)\n",
    "ex1_data3"
   ]
  },
  {
   "cell_type": "code",
   "execution_count": 8,
   "id": "3e6183bd-9461-4621-b31f-658b76df4460",
   "metadata": {},
   "outputs": [
    {
     "data": {
      "text/plain": [
       "True"
      ]
     },
     "execution_count": 8,
     "metadata": {},
     "output_type": "execute_result"
    }
   ],
   "source": [
    "ex1_data3 == ex1_expected"
   ]
  },
  {
   "cell_type": "markdown",
   "id": "3b965ce0-8325-4f83-842d-6b7c92f157e0",
   "metadata": {},
   "source": [
    "### Part 1 Sample Output : 18"
   ]
  },
  {
   "cell_type": "markdown",
   "id": "4144ff79-1269-496a-93b6-dbc01e053281",
   "metadata": {},
   "source": [
    "### Part 1"
   ]
  },
  {
   "cell_type": "code",
   "execution_count": 9,
   "id": "29f3cb7f-415b-428d-936f-ac54e660e4a0",
   "metadata": {},
   "outputs": [
    {
     "name": "stdout",
     "output_type": "stream",
     "text": [
      "XASXMAXXMSXXSMMSXMMSMXSMXMSSMSSSMMSMAMXMXSMMMMAXAMXSASXSSMMSSMXAMXMSAMXMMXAXXXSAMXXXXXMMXSXMXXSMASAMXMXAXXMASAMXXXMAMMMS ... 20 more.\n",
      "XASAMSSMAMMMAMAAAMASMAMAAXMASAAASAAMAMAMAAAAASMSSSSMAXAAAXASASMMMMMMXMASXMAMXXXXSMSMSXSAAXAMXMASMXMMSMSAXSXMMSXSMMAAMXAM ... 20 more.\n",
      "MXSXMAAMXAAAXMMSSMAXMASXSSSSMMSMMSXSASMSMSSMMMAAAXXXXMMMMMXXAMMAAAASMMAAAXMASMXXXAAASAMMXSASASMMMAMXSASASASMAXXMAMSSSMSS ... 20 more.\n",
      "SAMMMSSMMXXSXXXAAMSMSASXAAXMXXAAXXXMAXAAAXXMASMMMMMMXMXXXXSMXMSSMSASASMMXMMXMAAMASMSMSMAASXSAAAASAXAMAMXAAXMASMSSMXAMMMA ... 20 more.\n",
      "MASAAAAMSMMMMMMSMMMAMAXMMMMMXMSSMMXMSMMMMMAMXASAXAASXMMASAAXAXAXMXMXMXAASXMAMSXSAMMXMMMMMSAMXMSMSMSMMAMSMXMMASAMXAMMSASA ... 20 more.\n",
      "SSMXMSMAAMAAXXAMXASMMSMAMXSXSAMXXMAAAAXSXSAMXMASMSXMASXAMSAMXMMMSASMXMXMMAMSMXAMASXMXAASXMMMMXMMXAAXXAMXXAAMAMAMXXXASXSA ... 20 more.\n",
      "XXXXMAMMMSSSMXSXSASXAXSXMASAMXSMXMASMSMSXMASXXMMXMXSAMMXMAXAMAXXSXSAASMASXMXAMXMMMAASMXXAMXMMAXMXMSMSAMSSMSMMSSSSMMMSXMX ... 20 more.\n",
      "MMXSSXSMXAMAMAAAMSXMXMMXMASXMMSAMXXAAMXSASAMMXXSXMXMASXSSSMXSSMXXMXMMSAXMASMMMSMASAMXMASXSAMSSMSMAAAMAMAXAMAMAMXAXAXSAMX ... 20 more.\n",
      "AXMXMASMMASAMXSXMMXSAMAAMXMMMAXMMSMMXMASAMXSXMXMAAMAMSAMAAAMSAMMSXMXSXMXAXMASAMXAXMASXMAMMAMAAASMMMSSSMSSMXSAMXSMSMXXAMX ... 20 more.\n",
      "XMAMSXSASASASMXXMAMMAASXSAAAMMXAAXXAMMMMSMSMXMAXMXMAMXAMSMMMSAMASAMXSAMMMMXMMAMMSXXAMAXXAMSMMSMMAXXXMAAAAMAMAXXAMXXSMSAX ... 20 more.\n",
      "MSSMXASAMXSMMMAXASMSMMAXMAMSASXMAXMMSAXSASAAASMXMASMSSMMMAAXSAMMSAMAMAMMSAMSSSMSAMMSSSMSMXMAXXASXMMMMMMMSMASASXSXMASAXXM ... 20 more.\n",
      ".\n",
      ".\n",
      ".\n",
      "\n",
      "130 rows more.\n"
     ]
    }
   ],
   "source": [
    "input_file = \"input2.txt\"\n",
    "p1_data = load_input_lines(os.path.join(cwd, \"inputs\", input_file))"
   ]
  },
  {
   "cell_type": "code",
   "execution_count": 10,
   "id": "f6e91149-9d67-4fed-96db-942a7cf8919c",
   "metadata": {},
   "outputs": [
    {
     "name": "stdout",
     "output_type": "stream",
     "text": [
      "(0, 'X') (1, 'A') (2, 'S') (3, 'X') (4, 'M') (5, 'A') (6, 'X') (7, 'X') (8, 'M') (9, 'S') => 130 cols more. \n",
      "\n",
      "(140, 'X') (141, 'A') (142, 'S') (143, 'A') (144, 'M') (145, 'S') (146, 'S') (147, 'M') (148, 'A') (149, 'M') => 130 cols more. \n",
      "\n",
      "(280, 'M') (281, 'X') (282, 'S') (283, 'X') (284, 'M') (285, 'A') (286, 'A') (287, 'M') (288, 'X') (289, 'A') => 130 cols more. \n",
      "\n",
      "(420, 'S') (421, 'A') (422, 'M') (423, 'M') (424, 'M') (425, 'S') (426, 'S') (427, 'M') (428, 'M') (429, 'X') => 130 cols more. \n",
      "\n",
      "(560, 'M') (561, 'A') (562, 'S') (563, 'A') (564, 'A') (565, 'A') (566, 'A') (567, 'M') (568, 'S') (569, 'M') => 130 cols more. \n",
      "\n",
      "(700, 'S') (701, 'S') (702, 'M') (703, 'X') (704, 'M') (705, 'S') (706, 'M') (707, 'A') (708, 'A') (709, 'M') => 130 cols more. \n",
      "\n",
      "(840, 'X') (841, 'X') (842, 'X') (843, 'X') (844, 'M') (845, 'A') (846, 'M') (847, 'M') (848, 'M') (849, 'S') => 130 cols more. \n",
      "\n",
      "(980, 'M') (981, 'M') (982, 'X') (983, 'S') (984, 'S') (985, 'X') (986, 'S') (987, 'M') (988, 'X') (989, 'A') => 130 cols more. \n",
      "\n",
      "(1120, 'A') (1121, 'X') (1122, 'M') (1123, 'X') (1124, 'M') (1125, 'A') (1126, 'S') (1127, 'M') (1128, 'M') (1129, 'A') => 130 cols more. \n",
      "\n",
      "(1260, 'X') (1261, 'M') (1262, 'A') (1263, 'M') (1264, 'S') (1265, 'X') (1266, 'S') (1267, 'A') (1268, 'S') (1269, 'A') => 130 cols more. .\n",
      ".\n",
      ".\n",
      "130 rows more. "
     ]
    }
   ],
   "source": [
    "# load data into matrix\n",
    "p1_data1 = IndexedMatrix(p1_data)\n",
    "p1_data1.print()"
   ]
  },
  {
   "cell_type": "code",
   "execution_count": 11,
   "id": "e1d65c4f-3ff6-47c3-8d04-007503d4d2ab",
   "metadata": {},
   "outputs": [
    {
     "name": "stdout",
     "output_type": "stream",
     "text": [
      "(3, 144, 285, 426): ('X', 'M', 'A', 'S')\n",
      "(11, 151, 291, 431): ('X', 'M', 'A', 'S')\n",
      "(62, 203, 344, 485): ('X', 'M', 'A', 'S')\n",
      "(65, 205, 345, 485): ('X', 'M', 'A', 'S')\n",
      "(65, 204, 343, 482): ('X', 'M', 'A', 'S')\n",
      "(67, 68, 69, 70): ('X', 'M', 'A', 'S')\n",
      "(78, 79, 80, 81): ('X', 'M', 'A', 'S')\n",
      "(81, 221, 361, 501): ('X', 'M', 'A', 'S')\n",
      "(83, 223, 363, 503): ('X', 'M', 'A', 'S')\n",
      "(84, 223, 362, 501): ('X', 'M', 'A', 'S')\n",
      "(92, 231, 370, 509): ('X', 'M', 'A', 'S')\n",
      ".\n",
      ".\n",
      ".\n",
      "\n",
      "2348 more.\n"
     ]
    }
   ],
   "source": [
    "# search for XMAS\n",
    "p1_data1.fetchNeighbors()\n",
    "\n",
    "searchWord = 'XMAS'\n",
    "p1_data2 = {}\n",
    "for searchText in [searchWord, searchWord[::-1]]:\n",
    "    for rIndx in range(p1_data1.rows):\n",
    "        for cIndx in range(p1_data1.cols):\n",
    "            XCell = p1_data1.cellAt(rIndx, cIndx)\n",
    "            #find cell with 'X'\n",
    "            if XCell.data == searchText[0]:\n",
    "                #find neighbor with 'M'\n",
    "                m_neighbors = {item: cell for item, cell in six.iteritems(XCell.neighbors) if cell.data == searchText[1]}\n",
    "                for MDir, MCell in six.iteritems(m_neighbors):\n",
    "                    #check neighbor with 'A' exists in same dir\n",
    "                    if MDir in MCell.neighbors and MCell.neighbors[MDir].data == searchText[2]:\n",
    "                        ACell = MCell.neighbors[MDir]\n",
    "                        #check neighbor with 'S' exists in same dir\n",
    "                        if MDir in ACell.neighbors and ACell.neighbors[MDir].data == searchText[3]:\n",
    "                            SCell = ACell.neighbors[MDir]\n",
    "                            xmas_key = tuple(sorted([XCell.index, MCell.index, ACell.index, SCell.index]))                        \n",
    "                            if xmas_key not in p1_data2:\n",
    "                                p1_data2[xmas_key] = (XCell.data, MCell.data, ACell.data, SCell.data)\n",
    "                    \n",
    "printDict(p1_data2)"
   ]
  },
  {
   "cell_type": "code",
   "execution_count": 12,
   "id": "dab0d1ff-119f-4f74-910c-4acdd7fe91d6",
   "metadata": {},
   "outputs": [
    {
     "data": {
      "text/plain": [
       "2358"
      ]
     },
     "execution_count": 12,
     "metadata": {},
     "output_type": "execute_result"
    }
   ],
   "source": [
    "p1_data3 = len(p1_data2)\n",
    "p1_data3"
   ]
  },
  {
   "cell_type": "markdown",
   "id": "b1324114-119f-4cb8-81c1-ddb3d6d05a4d",
   "metadata": {},
   "source": [
    "### Part 1 Output : 2358"
   ]
  },
  {
   "cell_type": "markdown",
   "id": "39b4bb0c-b91d-4078-8a74-3dc0310748dd",
   "metadata": {},
   "source": [
    "### Part 2 Sample"
   ]
  },
  {
   "cell_type": "code",
   "execution_count": 13,
   "id": "467e5939-aaa2-4bab-bcb6-2ed603cd6672",
   "metadata": {},
   "outputs": [
    {
     "name": "stdout",
     "output_type": "stream",
     "text": [
      "MMMSXXMASM\n",
      "MSAMXMSMSA\n",
      "AMXSXMAAMM\n",
      "MSAMASMSMX\n",
      "XMASAMXAMM\n",
      "XXAMMXXAMA\n",
      "SMSMSASXSS\n",
      "SAXAMASAAA\n",
      "MAMMMXMMMM\n",
      "MXMXAXMASX\n"
     ]
    }
   ],
   "source": [
    "input_file = \"input1.txt\"\n",
    "ex2_data = load_input_lines(os.path.join(cwd, \"inputs\", input_file))\n",
    "ex2_expected = 9"
   ]
  },
  {
   "cell_type": "code",
   "execution_count": 14,
   "id": "1c8b61ea-376e-4ff8-8db7-848011e4cdf7",
   "metadata": {},
   "outputs": [
    {
     "name": "stdout",
     "output_type": "stream",
     "text": [
      "(0, 'M') (1, 'M') (2, 'M') (3, 'S') (4, 'X') (5, 'X') (6, 'M') (7, 'A') (8, 'S') (9, 'M') \n",
      "\n",
      "(10, 'M') (11, 'S') (12, 'A') (13, 'M') (14, 'X') (15, 'M') (16, 'S') (17, 'M') (18, 'S') (19, 'A') \n",
      "\n",
      "(20, 'A') (21, 'M') (22, 'X') (23, 'S') (24, 'X') (25, 'M') (26, 'A') (27, 'A') (28, 'M') (29, 'M') \n",
      "\n",
      "(30, 'M') (31, 'S') (32, 'A') (33, 'M') (34, 'A') (35, 'S') (36, 'M') (37, 'S') (38, 'M') (39, 'X') \n",
      "\n",
      "(40, 'X') (41, 'M') (42, 'A') (43, 'S') (44, 'A') (45, 'M') (46, 'X') (47, 'A') (48, 'M') (49, 'M') \n",
      "\n",
      "(50, 'X') (51, 'X') (52, 'A') (53, 'M') (54, 'M') (55, 'X') (56, 'X') (57, 'A') (58, 'M') (59, 'A') \n",
      "\n",
      "(60, 'S') (61, 'M') (62, 'S') (63, 'M') (64, 'S') (65, 'A') (66, 'S') (67, 'X') (68, 'S') (69, 'S') \n",
      "\n",
      "(70, 'S') (71, 'A') (72, 'X') (73, 'A') (74, 'M') (75, 'A') (76, 'S') (77, 'A') (78, 'A') (79, 'A') \n",
      "\n",
      "(80, 'M') (81, 'A') (82, 'M') (83, 'M') (84, 'M') (85, 'X') (86, 'M') (87, 'M') (88, 'M') (89, 'M') \n",
      "\n",
      "(90, 'M') (91, 'X') (92, 'M') (93, 'X') (94, 'A') (95, 'X') (96, 'M') (97, 'A') (98, 'S') (99, 'X') \n",
      "\n"
     ]
    }
   ],
   "source": [
    "# load data into matrix\n",
    "ex2_data1 = IndexedMatrix(ex2_data)\n",
    "ex2_data1.print()"
   ]
  },
  {
   "cell_type": "code",
   "execution_count": 15,
   "id": "7d8e81ee-acc1-4316-8447-c77a3d8f17ce",
   "metadata": {},
   "outputs": [
    {
     "name": "stdout",
     "output_type": "stream",
     "text": [
      "(1, 3, 12, 21, 23): ('A', 'M', 'S', 'S', 'M')\n",
      "(15, 17, 26, 35, 37): ('A', 'M', 'S', 'M', 'S')\n",
      "(16, 18, 27, 36, 38): ('A', 'S', 'M', 'S', 'M')\n",
      "(21, 23, 32, 41, 43): ('A', 'M', 'S', 'S', 'M')\n",
      "(23, 25, 34, 43, 45): ('A', 'S', 'M', 'M', 'S')\n",
      "(60, 62, 71, 80, 82): ('A', 'S', 'M', 'S', 'M')\n",
      "(62, 64, 73, 82, 84): ('A', 'S', 'M', 'S', 'M')\n",
      "(64, 66, 75, 84, 86): ('A', 'S', 'M', 'S', 'M')\n",
      "(66, 68, 77, 86, 88): ('A', 'S', 'M', 'S', 'M')\n"
     ]
    }
   ],
   "source": [
    "# search for X shaped MAS\n",
    "ex2_data1.fetchNeighbors()\n",
    "\n",
    "ex2_data2 = {}\n",
    "for rIndx in range(1, ex2_data1.rows-1):\n",
    "    for cIndx in range(1, ex2_data1.cols-1):\n",
    "        CCell = ex2_data1.cellAt(rIndx, cIndx)\n",
    "        #find cell with 'A'\n",
    "        if CCell.data == 'A':\n",
    "            #check 'LT' & 'RB' for 'M' & 'S' corespondingly\n",
    "            if ((CCell.neighbors['LT'].data == 'M') and (CCell.neighbors['RB'].data == 'S')) or \\\n",
    "               ((CCell.neighbors['LT'].data == 'S') and (CCell.neighbors['RB'].data == 'M')):\n",
    "                #check 'RT' & 'LB' for 'M' & 'S' corespondingly\n",
    "                if ((CCell.neighbors['RT'].data == 'M') and (CCell.neighbors['LB'].data == 'S')) or \\\n",
    "                   ((CCell.neighbors['RT'].data == 'S') and (CCell.neighbors['LB'].data == 'M')):\n",
    "\n",
    "                    # X shaped MAS found\n",
    "                    XCells = [CCell, CCell.neighbors['LT'], CCell.neighbors['RB'], CCell.neighbors['RT'], CCell.neighbors['LB']]\n",
    "                    xmas_key = tuple(sorted([cell.index for cell in XCells]))                        \n",
    "                    if xmas_key not in ex2_data2:\n",
    "                        ex2_data2[xmas_key] = tuple(cell.data for cell in XCells)\n",
    "                    \n",
    "printDict(ex2_data2)"
   ]
  },
  {
   "cell_type": "code",
   "execution_count": 16,
   "id": "6bdc6cee-53b6-4fdf-adb3-9b17ebb84cd6",
   "metadata": {},
   "outputs": [
    {
     "data": {
      "text/plain": [
       "9"
      ]
     },
     "execution_count": 16,
     "metadata": {},
     "output_type": "execute_result"
    }
   ],
   "source": [
    "ex2_data3 = len(ex2_data2)\n",
    "ex2_data3"
   ]
  },
  {
   "cell_type": "code",
   "execution_count": 17,
   "id": "d075a786-1dd5-4fa7-a3cb-b3b439806458",
   "metadata": {},
   "outputs": [
    {
     "data": {
      "text/plain": [
       "True"
      ]
     },
     "execution_count": 17,
     "metadata": {},
     "output_type": "execute_result"
    }
   ],
   "source": [
    "ex2_data3 == ex2_expected"
   ]
  },
  {
   "cell_type": "markdown",
   "id": "e67019e9-e343-430c-a350-c2c5716bff06",
   "metadata": {},
   "source": [
    "### Part 2 Sample Output : 9"
   ]
  },
  {
   "cell_type": "markdown",
   "id": "8fb7aa65-6dab-4673-9629-3dcea4a4ef70",
   "metadata": {},
   "source": [
    "### Part 2"
   ]
  },
  {
   "cell_type": "code",
   "execution_count": 18,
   "id": "768fd5da-8ad6-4912-98c1-06cbb7174f27",
   "metadata": {},
   "outputs": [
    {
     "name": "stdout",
     "output_type": "stream",
     "text": [
      "XASXMAXXMSXXSMMSXMMSMXSMXMSSMSSSMMSMAMXMXSMMMMAXAMXSASXSSMMSSMXAMXMSAMXMMXAXXXSAMXXXXXMMXSXMXXSMASAMXMXAXXMASAMXXXMAMMMS ... 20 more.\n",
      "XASAMSSMAMMMAMAAAMASMAMAAXMASAAASAAMAMAMAAAAASMSSSSMAXAAAXASASMMMMMMXMASXMAMXXXXSMSMSXSAAXAMXMASMXMMSMSAXSXMMSXSMMAAMXAM ... 20 more.\n",
      "MXSXMAAMXAAAXMMSSMAXMASXSSSSMMSMMSXSASMSMSSMMMAAAXXXXMMMMMXXAMMAAAASMMAAAXMASMXXXAAASAMMXSASASMMMAMXSASASASMAXXMAMSSSMSS ... 20 more.\n",
      "SAMMMSSMMXXSXXXAAMSMSASXAAXMXXAAXXXMAXAAAXXMASMMMMMMXMXXXXSMXMSSMSASASMMXMMXMAAMASMSMSMAASXSAAAASAXAMAMXAAXMASMSSMXAMMMA ... 20 more.\n",
      "MASAAAAMSMMMMMMSMMMAMAXMMMMMXMSSMMXMSMMMMMAMXASAXAASXMMASAAXAXAXMXMXMXAASXMAMSXSAMMXMMMMMSAMXMSMSMSMMAMSMXMMASAMXAMMSASA ... 20 more.\n",
      "SSMXMSMAAMAAXXAMXASMMSMAMXSXSAMXXMAAAAXSXSAMXMASMSXMASXAMSAMXMMMSASMXMXMMAMSMXAMASXMXAASXMMMMXMMXAAXXAMXXAAMAMAMXXXASXSA ... 20 more.\n",
      "XXXXMAMMMSSSMXSXSASXAXSXMASAMXSMXMASMSMSXMASXXMMXMXSAMMXMAXAMAXXSXSAASMASXMXAMXMMMAASMXXAMXMMAXMXMSMSAMSSMSMMSSSSMMMSXMX ... 20 more.\n",
      "MMXSSXSMXAMAMAAAMSXMXMMXMASXMMSAMXXAAMXSASAMMXXSXMXMASXSSSMXSSMXXMXMMSAXMASMMMSMASAMXMASXSAMSSMSMAAAMAMAXAMAMAMXAXAXSAMX ... 20 more.\n",
      "AXMXMASMMASAMXSXMMXSAMAAMXMMMAXMMSMMXMASAMXSXMXMAAMAMSAMAAAMSAMMSXMXSXMXAXMASAMXAXMASXMAMMAMAAASMMMSSSMSSMXSAMXSMSMXXAMX ... 20 more.\n",
      "XMAMSXSASASASMXXMAMMAASXSAAAMMXAAXXAMMMMSMSMXMAXMXMAMXAMSMMMSAMASAMXSAMMMMXMMAMMSXXAMAXXAMSMMSMMAXXXMAAAAMAMAXXAMXXSMSAX ... 20 more.\n",
      "MSSMXASAMXSMMMAXASMSMMAXMAMSASXMAXMMSAXSASAAASMXMASMSSMMMAAXSAMMSAMAMAMMSAMSSSMSAMMSSSMSMXMAXXASXMMMMMMMSMASASXSXMASAXXM ... 20 more.\n",
      ".\n",
      ".\n",
      ".\n",
      "\n",
      "130 rows more.\n"
     ]
    }
   ],
   "source": [
    "input_file = \"input2.txt\"\n",
    "p2_data = load_input_lines(os.path.join(cwd, \"inputs\", input_file))"
   ]
  },
  {
   "cell_type": "code",
   "execution_count": 19,
   "id": "1d4a336b-4147-4fbc-b6c6-043e394dbba9",
   "metadata": {},
   "outputs": [
    {
     "name": "stdout",
     "output_type": "stream",
     "text": [
      "(0, 'X') (1, 'A') (2, 'S') (3, 'X') (4, 'M') (5, 'A') (6, 'X') (7, 'X') (8, 'M') (9, 'S') => 130 cols more. \n",
      "\n",
      "(140, 'X') (141, 'A') (142, 'S') (143, 'A') (144, 'M') (145, 'S') (146, 'S') (147, 'M') (148, 'A') (149, 'M') => 130 cols more. \n",
      "\n",
      "(280, 'M') (281, 'X') (282, 'S') (283, 'X') (284, 'M') (285, 'A') (286, 'A') (287, 'M') (288, 'X') (289, 'A') => 130 cols more. \n",
      "\n",
      "(420, 'S') (421, 'A') (422, 'M') (423, 'M') (424, 'M') (425, 'S') (426, 'S') (427, 'M') (428, 'M') (429, 'X') => 130 cols more. \n",
      "\n",
      "(560, 'M') (561, 'A') (562, 'S') (563, 'A') (564, 'A') (565, 'A') (566, 'A') (567, 'M') (568, 'S') (569, 'M') => 130 cols more. \n",
      "\n",
      "(700, 'S') (701, 'S') (702, 'M') (703, 'X') (704, 'M') (705, 'S') (706, 'M') (707, 'A') (708, 'A') (709, 'M') => 130 cols more. \n",
      "\n",
      "(840, 'X') (841, 'X') (842, 'X') (843, 'X') (844, 'M') (845, 'A') (846, 'M') (847, 'M') (848, 'M') (849, 'S') => 130 cols more. \n",
      "\n",
      "(980, 'M') (981, 'M') (982, 'X') (983, 'S') (984, 'S') (985, 'X') (986, 'S') (987, 'M') (988, 'X') (989, 'A') => 130 cols more. \n",
      "\n",
      "(1120, 'A') (1121, 'X') (1122, 'M') (1123, 'X') (1124, 'M') (1125, 'A') (1126, 'S') (1127, 'M') (1128, 'M') (1129, 'A') => 130 cols more. \n",
      "\n",
      "(1260, 'X') (1261, 'M') (1262, 'A') (1263, 'M') (1264, 'S') (1265, 'X') (1266, 'S') (1267, 'A') (1268, 'S') (1269, 'A') => 130 cols more. .\n",
      ".\n",
      ".\n",
      "130 rows more. "
     ]
    }
   ],
   "source": [
    "# load data into matrix\n",
    "p2_data1 = IndexedMatrix(p2_data)\n",
    "p2_data1.print()"
   ]
  },
  {
   "cell_type": "code",
   "execution_count": 20,
   "id": "919e9af2-2908-4188-a18c-40707f96cadc",
   "metadata": {},
   "outputs": [
    {
     "name": "stdout",
     "output_type": "stream",
     "text": [
      "(2, 4, 143, 282, 284): ('A', 'S', 'M', 'M', 'S')\n",
      "(13, 15, 154, 293, 295): ('A', 'M', 'S', 'S', 'M')\n",
      "(15, 17, 156, 295, 297): ('A', 'S', 'M', 'M', 'S')\n",
      "(20, 22, 161, 300, 302): ('A', 'M', 'S', 'S', 'M')\n",
      "(26, 28, 167, 306, 308): ('A', 'S', 'M', 'M', 'S')\n",
      "(28, 30, 169, 308, 310): ('A', 'M', 'S', 'S', 'M')\n",
      "(29, 31, 170, 309, 311): ('A', 'S', 'M', 'S', 'M')\n",
      "(30, 32, 171, 310, 312): ('A', 'S', 'M', 'M', 'S')\n",
      "(33, 35, 174, 313, 315): ('A', 'M', 'S', 'M', 'S')\n",
      "(35, 37, 176, 315, 317): ('A', 'M', 'S', 'M', 'S')\n",
      "(37, 39, 178, 317, 319): ('A', 'M', 'S', 'M', 'S')\n",
      ".\n",
      ".\n",
      ".\n",
      "\n",
      "1727 more.\n"
     ]
    }
   ],
   "source": [
    "# search for X shaped MAS\n",
    "p2_data1.fetchNeighbors()\n",
    "\n",
    "p2_data2 = {}\n",
    "for rIndx in range(1, p2_data1.rows-1):\n",
    "    for cIndx in range(1, p2_data1.cols-1):\n",
    "        CCell = p2_data1.cellAt(rIndx, cIndx)\n",
    "        #find cell with 'A'\n",
    "        if CCell.data == 'A':\n",
    "            #check 'LT' & 'RB' for 'M' & 'S' corespondingly\n",
    "            if ((CCell.neighbors['LT'].data == 'M') and (CCell.neighbors['RB'].data == 'S')) or \\\n",
    "               ((CCell.neighbors['LT'].data == 'S') and (CCell.neighbors['RB'].data == 'M')):\n",
    "                #check 'RT' & 'LB' for 'M' & 'S' corespondingly\n",
    "                if ((CCell.neighbors['RT'].data == 'M') and (CCell.neighbors['LB'].data == 'S')) or \\\n",
    "                   ((CCell.neighbors['RT'].data == 'S') and (CCell.neighbors['LB'].data == 'M')):\n",
    "\n",
    "                    # X shaped MAS found\n",
    "                    XCells = [CCell, CCell.neighbors['LT'], CCell.neighbors['RB'], CCell.neighbors['RT'], CCell.neighbors['LB']]\n",
    "                    xmas_key = tuple(sorted([cell.index for cell in XCells]))                        \n",
    "                    if xmas_key not in p2_data2:\n",
    "                        p2_data2[xmas_key] = tuple(cell.data for cell in XCells)\n",
    "                    \n",
    "printDict(p2_data2)"
   ]
  },
  {
   "cell_type": "code",
   "execution_count": 21,
   "id": "d5b3d8bc-a16d-4e1d-9fed-5110afbbe564",
   "metadata": {},
   "outputs": [
    {
     "data": {
      "text/plain": [
       "1737"
      ]
     },
     "execution_count": 21,
     "metadata": {},
     "output_type": "execute_result"
    }
   ],
   "source": [
    "p2_data3 = len(p2_data2)\n",
    "p2_data3"
   ]
  },
  {
   "cell_type": "markdown",
   "id": "2da0f4ab-9319-44eb-b2dd-aaad77a30be9",
   "metadata": {},
   "source": [
    "### Part 2 Output : 1737"
   ]
  }
 ],
 "metadata": {
  "kernelspec": {
   "display_name": "Python 3 (ipykernel)",
   "language": "python",
   "name": "python3"
  },
  "language_info": {
   "codemirror_mode": {
    "name": "ipython",
    "version": 3
   },
   "file_extension": ".py",
   "mimetype": "text/x-python",
   "name": "python",
   "nbconvert_exporter": "python",
   "pygments_lexer": "ipython3",
   "version": "3.12.3"
  }
 },
 "nbformat": 4,
 "nbformat_minor": 5
}
