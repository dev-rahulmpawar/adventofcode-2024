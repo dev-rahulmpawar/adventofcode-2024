{
 "cells": [
  {
   "cell_type": "code",
   "execution_count": 1,
   "id": "7e82f365-c6aa-42f8-92f6-e27455bd2bbd",
   "metadata": {},
   "outputs": [
    {
     "name": "stdout",
     "output_type": "stream",
     "text": [
      "cwd  :  /home/rahulsunita/workspace/adventofcode-2024/src/day03\n",
      "root :  /home/rahulsunita/workspace/adventofcode-2024\n"
     ]
    }
   ],
   "source": [
    "import os\n",
    "cwd = os.getcwd()\n",
    "root = os.path.dirname(os.path.dirname(cwd))\n",
    "import sys\n",
    "sys.path.append(root)\n",
    "\n",
    "print(\"cwd  : \", cwd)\n",
    "print(\"root : \", root)"
   ]
  },
  {
   "cell_type": "code",
   "execution_count": 2,
   "id": "53ddeae9-9f48-4924-89d9-ba045b069c0f",
   "metadata": {},
   "outputs": [
    {
     "data": {
      "text/plain": [
       "['listFuncs', 'load_input_lines', 'printDict', 'printSingleNumList']"
      ]
     },
     "execution_count": 2,
     "metadata": {},
     "output_type": "execute_result"
    }
   ],
   "source": [
    "import src.libs.utils\n",
    "from src.libs.utils import *\n",
    "listFuncs(src.libs.utils)"
   ]
  },
  {
   "cell_type": "markdown",
   "id": "0dfb9104-1c92-481d-bb66-279774315bc8",
   "metadata": {},
   "source": [
    "#### Part 1 Sample"
   ]
  },
  {
   "cell_type": "code",
   "execution_count": 3,
   "id": "7b0d9dd6-bca9-4224-b21c-ce3396bd6893",
   "metadata": {},
   "outputs": [
    {
     "name": "stdout",
     "output_type": "stream",
     "text": [
      "xmul(2,4)%&mul[3,7]!@^do_not_mul(5,5)+mul(32,64]then(mul(11,8)mul(8,5))\n"
     ]
    }
   ],
   "source": [
    "input_file = \"input1.txt\"\n",
    "ex1_data = load_input_lines(os.path.join(cwd, \"inputs\", input_file))\n",
    "ex1_expected = 161"
   ]
  },
  {
   "cell_type": "code",
   "execution_count": 4,
   "id": "038011a0-e542-48da-8722-11522d3b1d42",
   "metadata": {},
   "outputs": [],
   "source": [
    "import re\n",
    "def getNextIns(text, pattern):\n",
    "    for item in re.findall(pattern, text):\n",
    "        yield item"
   ]
  },
  {
   "cell_type": "code",
   "execution_count": 5,
   "id": "d3935d96-4114-427f-a413-ac1af4b7544d",
   "metadata": {},
   "outputs": [
    {
     "data": {
      "text/plain": [
       "['mul(2,4)', 'mul(5,5)', 'mul(11,8)', 'mul(8,5)']"
      ]
     },
     "execution_count": 5,
     "metadata": {},
     "output_type": "execute_result"
    }
   ],
   "source": [
    "search_pattern = r\"mul\\(\\d{1,3},\\d{1,3}\\)\"\n",
    "ex1_data1 = [item for item in getNextIns(ex1_data[0], search_pattern)]\n",
    "ex1_data1"
   ]
  },
  {
   "cell_type": "code",
   "execution_count": 6,
   "id": "c5c47e53-1c33-4472-86d7-93f3cf07c6b9",
   "metadata": {},
   "outputs": [
    {
     "data": {
      "text/plain": [
       "[8, 25, 88, 40]"
      ]
     },
     "execution_count": 6,
     "metadata": {},
     "output_type": "execute_result"
    }
   ],
   "source": [
    "def mul(a,b):\n",
    "    return a * b\n",
    "safe_dict = {}\n",
    "safe_dict[\"mul\"] = mul\n",
    "ex1_data2 = [eval(item, {}, safe_dict) for item in ex1_data1]\n",
    "ex1_data2"
   ]
  },
  {
   "cell_type": "code",
   "execution_count": 7,
   "id": "0f923e78-fba7-48f4-8d70-f38562025c0e",
   "metadata": {},
   "outputs": [
    {
     "data": {
      "text/plain": [
       "161"
      ]
     },
     "execution_count": 7,
     "metadata": {},
     "output_type": "execute_result"
    }
   ],
   "source": [
    "ex1_data3 = sum(ex1_data2)\n",
    "ex1_data3"
   ]
  },
  {
   "cell_type": "code",
   "execution_count": 8,
   "id": "3e6183bd-9461-4621-b31f-658b76df4460",
   "metadata": {},
   "outputs": [
    {
     "data": {
      "text/plain": [
       "True"
      ]
     },
     "execution_count": 8,
     "metadata": {},
     "output_type": "execute_result"
    }
   ],
   "source": [
    "ex1_data3 == ex1_expected"
   ]
  },
  {
   "cell_type": "markdown",
   "id": "3b965ce0-8325-4f83-842d-6b7c92f157e0",
   "metadata": {},
   "source": [
    "### Part 1 Sample Output : 161"
   ]
  },
  {
   "cell_type": "markdown",
   "id": "4144ff79-1269-496a-93b6-dbc01e053281",
   "metadata": {},
   "source": [
    "### Part 1"
   ]
  },
  {
   "cell_type": "code",
   "execution_count": 9,
   "id": "29f3cb7f-415b-428d-936f-ac54e660e4a0",
   "metadata": {},
   "outputs": [
    {
     "name": "stdout",
     "output_type": "stream",
     "text": [
      ";({where()+'what()mul(445,324)#what()select()(+mul(430,603)why()@^&why()<mul(991,973)what()*~where()mul(320,361)from()ho ... 2891 more.\n",
      "what()#where()&$mul(310,297)%>why()^<mul(768,599where()mul(999,433)^who()select()(?>what()]mul(593,941^where(),-select() ... 2878 more.\n",
      ":]$^do()select()^~]who()& ^}mul(142,82)(?{mul(324,299) ^&@mul(426,954)*why()mul(535,943)'^)*<]mul(540,959)~select(),how( ... 3022 more.\n",
      "don't():>>/;%^)mul(837,12)why()#[>@mul(180,108)<)^)-select()mul(790,366) mul(477,626)who();don't()what():>})>select()#,s ... 2999 more.\n",
      "mul(989,116)what()? mul(240what()^&;;mul(154,827)^<don't();how()@#from()/?@,mul(445,633)from()how()+mul(546,175)why(),wh ... 2982 more.\n",
      "%how()how():?:mul(766,746)*@mul(364,566)-< who()(*':mul(999,344)*/select()--mul(672,593){how())<mul(73#)()@+mul(83,507)  ... 2494 more.\n"
     ]
    }
   ],
   "source": [
    "input_file = \"input2.txt\"\n",
    "p1_data = load_input_lines(os.path.join(cwd, \"inputs\", input_file))"
   ]
  },
  {
   "cell_type": "code",
   "execution_count": 10,
   "id": "4965ed52-939e-43b4-8b02-1e7ff97f0e75",
   "metadata": {},
   "outputs": [
    {
     "name": "stdout",
     "output_type": "stream",
     "text": [
      "['mul(445,324)', 'mul(430,603)', 'mul(991,973)', 'mul(320,361)', 'mul(39,679)', 'mul(73,323)', 'mul(133,891)', 'mul(996,200)', 'mul(668,190)', 'mul(537,572)', 'mul(455,630)', 'mul(77,345)', 'mul(759,479)', 'mul(112,700)', 'mul(11,880)', 'mul(653,180)', 'mul(343,172)', 'mul(121,364)', 'mul(905,512)', 'mul(253,82)', 'mul(173,725)', 'mul(948,412)', 'mul(688,386)', 'mul(798,885)', 'mul(139,466)', 'mul(337,913)', 'mul(299,848)', 'mul(404,810)', 'mul(562,587)', 'mul(930,204)', 'mul(671,431)', 'mul(467,198)', 'mul(648,804)', 'mul(433,801)', 'mul(294,95)', 'mul(394,740)', 'mul(627,328)', 'mul(726,536)', 'mul(665,531)', 'mul(651,419)', 'mul(251,901)', 'mul(917,673)', 'mul(139,942)', 'mul(100,802)', 'mul(675,411)', 'mul(858,719)', 'mul(873,971)', 'mul(78,89)', 'mul(308,52)', 'mul(959,448)'] ... 625 more.\n"
     ]
    }
   ],
   "source": [
    "p1_data1 = [item for itemLine in p1_data for item in getNextIns(itemLine, search_pattern)]\n",
    "printSingleNumList(p1_data1)"
   ]
  },
  {
   "cell_type": "code",
   "execution_count": 11,
   "id": "e9521ad8-3eb4-4406-9f40-892b1779ffad",
   "metadata": {},
   "outputs": [
    {
     "name": "stdout",
     "output_type": "stream",
     "text": [
      "[144180, 259290, 964243, 115520, 26481, 23579, 118503, 199200, 126920, 307164, 286650, 26565, 363561, 78400, 9680, 117540, 58996, 44044, 463360, 20746, 125425, 390576, 265568, 706230, 64774, 307681, 253552, 327240, 329894, 189720, 289201, 92466, 520992, 346833, 27930, 291560, 205656, 389136, 353115, 272769, 226151, 617141, 130938, 80200, 277425, 616902, 847683, 6942, 16016, 429632] ... 625 more.\n"
     ]
    }
   ],
   "source": [
    "p1_data2 = [eval(item, {}, safe_dict) for item in p1_data1]\n",
    "printSingleNumList(p1_data2)"
   ]
  },
  {
   "cell_type": "code",
   "execution_count": 12,
   "id": "dab0d1ff-119f-4f74-910c-4acdd7fe91d6",
   "metadata": {},
   "outputs": [
    {
     "data": {
      "text/plain": [
       "167650499"
      ]
     },
     "execution_count": 12,
     "metadata": {},
     "output_type": "execute_result"
    }
   ],
   "source": [
    "p1_data3 = sum(p1_data2)\n",
    "p1_data3"
   ]
  },
  {
   "cell_type": "markdown",
   "id": "b1324114-119f-4cb8-81c1-ddb3d6d05a4d",
   "metadata": {},
   "source": [
    "### Part 1 Output : 167650499"
   ]
  },
  {
   "cell_type": "markdown",
   "id": "39b4bb0c-b91d-4078-8a74-3dc0310748dd",
   "metadata": {},
   "source": [
    "### Part 2 Sample"
   ]
  },
  {
   "cell_type": "code",
   "execution_count": 13,
   "id": "467e5939-aaa2-4bab-bcb6-2ed603cd6672",
   "metadata": {},
   "outputs": [
    {
     "name": "stdout",
     "output_type": "stream",
     "text": [
      "xmul(2,4)&mul[3,7]!^don't()_mul(5,5)+mul(32,64](mul(11,8)undo()?mul(8,5))\n"
     ]
    }
   ],
   "source": [
    "input_file = \"input3.txt\"\n",
    "ex2_data = load_input_lines(os.path.join(cwd, \"inputs\", input_file))\n",
    "ex2_expected = 48"
   ]
  },
  {
   "cell_type": "code",
   "execution_count": 14,
   "id": "6e38dfae-802b-495c-ba43-ab6c130686ba",
   "metadata": {},
   "outputs": [
    {
     "data": {
      "text/plain": [
       "['mul(2,4)', \"don't()\", 'mul(5,5)', 'mul(11,8)', 'do()', 'mul(8,5)']"
      ]
     },
     "execution_count": 14,
     "metadata": {},
     "output_type": "execute_result"
    }
   ],
   "source": [
    "search_pattern2 = r\"(mul\\(\\d{1,3},\\d{1,3}\\))|(don't\\(\\))|(do\\(\\))\"\n",
    "ex1_data1 = [item for item in getNextIns(ex2_data[0], search_pattern2)]\n",
    "ex1_data2 = [subitem for item in ex1_data1 for subitem in item if subitem]\n",
    "ex1_data2"
   ]
  },
  {
   "cell_type": "code",
   "execution_count": 15,
   "id": "09a37d8f-8622-40a2-aa2e-0f0b0e68e54b",
   "metadata": {},
   "outputs": [
    {
     "data": {
      "text/plain": [
       "['mul(2,4)', 'mul(8,5)']"
      ]
     },
     "execution_count": 15,
     "metadata": {},
     "output_type": "execute_result"
    }
   ],
   "source": [
    "ex1_data3 = []\n",
    "disabled = False\n",
    "for item in ex1_data2:\n",
    "    if \"don\" in item:\n",
    "        disabled = True\n",
    "    elif \"do(\" in item:\n",
    "        disabled = False\n",
    "    elif not disabled:\n",
    "       ex1_data3.append(item)\n",
    "ex1_data3"
   ]
  },
  {
   "cell_type": "code",
   "execution_count": 16,
   "id": "bab2d1ec-5ce9-4db1-98c3-2b5e603fd6f1",
   "metadata": {},
   "outputs": [
    {
     "data": {
      "text/plain": [
       "[8, 40]"
      ]
     },
     "execution_count": 16,
     "metadata": {},
     "output_type": "execute_result"
    }
   ],
   "source": [
    "ex1_data4 = [eval(item, {}, safe_dict) for item in ex1_data3]\n",
    "ex1_data4"
   ]
  },
  {
   "cell_type": "code",
   "execution_count": 17,
   "id": "6bdc6cee-53b6-4fdf-adb3-9b17ebb84cd6",
   "metadata": {},
   "outputs": [
    {
     "data": {
      "text/plain": [
       "48"
      ]
     },
     "execution_count": 17,
     "metadata": {},
     "output_type": "execute_result"
    }
   ],
   "source": [
    "ex1_data5 = sum(ex1_data4)\n",
    "ex1_data5"
   ]
  },
  {
   "cell_type": "code",
   "execution_count": 18,
   "id": "d075a786-1dd5-4fa7-a3cb-b3b439806458",
   "metadata": {},
   "outputs": [
    {
     "data": {
      "text/plain": [
       "True"
      ]
     },
     "execution_count": 18,
     "metadata": {},
     "output_type": "execute_result"
    }
   ],
   "source": [
    "ex1_data5 == ex2_expected"
   ]
  },
  {
   "cell_type": "markdown",
   "id": "e67019e9-e343-430c-a350-c2c5716bff06",
   "metadata": {},
   "source": [
    "### Part 2 Sample Output : 48"
   ]
  },
  {
   "cell_type": "markdown",
   "id": "8fb7aa65-6dab-4673-9629-3dcea4a4ef70",
   "metadata": {},
   "source": [
    "### Part 2"
   ]
  },
  {
   "cell_type": "code",
   "execution_count": 19,
   "id": "768fd5da-8ad6-4912-98c1-06cbb7174f27",
   "metadata": {},
   "outputs": [
    {
     "name": "stdout",
     "output_type": "stream",
     "text": [
      ";({where()+'what()mul(445,324)#what()select()(+mul(430,603)why()@^&why()<mul(991,973)what()*~where()mul(320,361)from()ho ... 2891 more.\n",
      "what()#where()&$mul(310,297)%>why()^<mul(768,599where()mul(999,433)^who()select()(?>what()]mul(593,941^where(),-select() ... 2878 more.\n",
      ":]$^do()select()^~]who()& ^}mul(142,82)(?{mul(324,299) ^&@mul(426,954)*why()mul(535,943)'^)*<]mul(540,959)~select(),how( ... 3022 more.\n",
      "don't():>>/;%^)mul(837,12)why()#[>@mul(180,108)<)^)-select()mul(790,366) mul(477,626)who();don't()what():>})>select()#,s ... 2999 more.\n",
      "mul(989,116)what()? mul(240what()^&;;mul(154,827)^<don't();how()@#from()/?@,mul(445,633)from()how()+mul(546,175)why(),wh ... 2982 more.\n",
      "%how()how():?:mul(766,746)*@mul(364,566)-< who()(*':mul(999,344)*/select()--mul(672,593){how())<mul(73#)()@+mul(83,507)  ... 2494 more.\n"
     ]
    }
   ],
   "source": [
    "input_file = \"input2.txt\"\n",
    "p2_data = load_input_lines(os.path.join(cwd, \"inputs\", input_file))"
   ]
  },
  {
   "cell_type": "code",
   "execution_count": 20,
   "id": "8c18937b-ef54-4c67-b578-37fb8bd28bc4",
   "metadata": {},
   "outputs": [
    {
     "name": "stdout",
     "output_type": "stream",
     "text": [
      "['mul(445,324)', 'mul(430,603)', 'mul(991,973)', 'mul(320,361)', 'mul(39,679)', 'mul(73,323)', 'mul(133,891)', 'mul(996,200)', 'mul(668,190)', 'mul(537,572)', 'mul(455,630)', 'do()', 'mul(77,345)', 'mul(759,479)', 'mul(112,700)', 'mul(11,880)', 'mul(653,180)', 'mul(343,172)', 'mul(121,364)', 'mul(905,512)', 'mul(253,82)', 'mul(173,725)', 'mul(948,412)', \"don't()\", 'mul(688,386)', 'mul(798,885)', 'mul(139,466)', 'mul(337,913)', 'mul(299,848)', 'mul(404,810)', \"don't()\", 'mul(562,587)', 'mul(930,204)', 'mul(671,431)', 'mul(467,198)', 'do()', 'mul(648,804)', 'mul(433,801)', 'mul(294,95)', 'mul(394,740)', 'mul(627,328)', 'mul(726,536)', 'mul(665,531)', 'mul(651,419)', 'mul(251,901)', 'mul(917,673)', 'mul(139,942)', \"don't()\", 'mul(100,802)', 'mul(675,411)'] ... 697 more.\n"
     ]
    }
   ],
   "source": [
    "p2_data1 = [item for itemLine in p2_data for item in getNextIns(itemLine, search_pattern2)]\n",
    "p2_data2 = [subitem for item in p2_data1 for subitem in item if subitem]\n",
    "printSingleNumList(p2_data2)"
   ]
  },
  {
   "cell_type": "code",
   "execution_count": 21,
   "id": "da1f6edc-61e6-4cdf-82fc-694ee6448a6b",
   "metadata": {},
   "outputs": [
    {
     "name": "stdout",
     "output_type": "stream",
     "text": [
      "['mul(445,324)', 'mul(430,603)', 'mul(991,973)', 'mul(320,361)', 'mul(39,679)', 'mul(73,323)', 'mul(133,891)', 'mul(996,200)', 'mul(668,190)', 'mul(537,572)', 'mul(455,630)', 'mul(77,345)', 'mul(759,479)', 'mul(112,700)', 'mul(11,880)', 'mul(653,180)', 'mul(343,172)', 'mul(121,364)', 'mul(905,512)', 'mul(253,82)', 'mul(173,725)', 'mul(948,412)', 'mul(648,804)', 'mul(433,801)', 'mul(294,95)', 'mul(394,740)', 'mul(627,328)', 'mul(726,536)', 'mul(665,531)', 'mul(651,419)', 'mul(251,901)', 'mul(917,673)', 'mul(139,942)', 'mul(873,971)', 'mul(78,89)', 'mul(308,52)', 'mul(959,448)', 'mul(379,76)', 'mul(575,884)', 'mul(829,831)', 'mul(686,468)', 'mul(886,603)', 'mul(171,272)', 'mul(766,411)', 'mul(763,590)', 'mul(486,962)', 'mul(572,266)', 'mul(15,796)', 'mul(147,232)', 'mul(267,231)'] ... 314 more.\n"
     ]
    }
   ],
   "source": [
    "p2_data3 = []\n",
    "disabled = False\n",
    "for item in p2_data2:\n",
    "    if \"don\" in item:\n",
    "        disabled = True\n",
    "    elif \"do(\" in item:\n",
    "        disabled = False\n",
    "    elif not disabled:\n",
    "       p2_data3.append(item)\n",
    "printSingleNumList(p2_data3)"
   ]
  },
  {
   "cell_type": "code",
   "execution_count": 22,
   "id": "eb73f715-a696-4c90-bd60-3d8425f02ee0",
   "metadata": {},
   "outputs": [
    {
     "name": "stdout",
     "output_type": "stream",
     "text": [
      "[144180, 259290, 964243, 115520, 26481, 23579, 118503, 199200, 126920, 307164, 286650, 26565, 363561, 78400, 9680, 117540, 58996, 44044, 463360, 20746, 125425, 390576, 520992, 346833, 27930, 291560, 205656, 389136, 353115, 272769, 226151, 617141, 130938, 847683, 6942, 16016, 429632, 28804, 508300, 688899, 321048, 534258, 46512, 314826, 450170, 467532, 152152, 11940, 34104, 61677] ... 314 more.\n"
     ]
    }
   ],
   "source": [
    "p2_data4 = [eval(item, {}, safe_dict) for item in p2_data3]\n",
    "printSingleNumList(p2_data4)"
   ]
  },
  {
   "cell_type": "code",
   "execution_count": 23,
   "id": "d5b3d8bc-a16d-4e1d-9fed-5110afbbe564",
   "metadata": {},
   "outputs": [
    {
     "data": {
      "text/plain": [
       "95846796"
      ]
     },
     "execution_count": 23,
     "metadata": {},
     "output_type": "execute_result"
    }
   ],
   "source": [
    "p2_data5 = sum(p2_data4)\n",
    "p2_data5"
   ]
  },
  {
   "cell_type": "markdown",
   "id": "2da0f4ab-9319-44eb-b2dd-aaad77a30be9",
   "metadata": {},
   "source": [
    "### Part 2 Output : 95846796"
   ]
  }
 ],
 "metadata": {
  "kernelspec": {
   "display_name": "Python 3 (ipykernel)",
   "language": "python",
   "name": "python3"
  },
  "language_info": {
   "codemirror_mode": {
    "name": "ipython",
    "version": 3
   },
   "file_extension": ".py",
   "mimetype": "text/x-python",
   "name": "python",
   "nbconvert_exporter": "python",
   "pygments_lexer": "ipython3",
   "version": "3.12.3"
  }
 },
 "nbformat": 4,
 "nbformat_minor": 5
}
