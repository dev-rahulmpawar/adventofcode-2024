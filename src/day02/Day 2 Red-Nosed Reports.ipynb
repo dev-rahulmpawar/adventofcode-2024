{
 "cells": [
  {
   "cell_type": "code",
   "execution_count": 1,
   "id": "7e82f365-c6aa-42f8-92f6-e27455bd2bbd",
   "metadata": {},
   "outputs": [
    {
     "name": "stdout",
     "output_type": "stream",
     "text": [
      "cwd  :  /home/rahulsunita/workspace/adventofcode-2024/src/day02\n",
      "root :  /home/rahulsunita/workspace/adventofcode-2024\n"
     ]
    }
   ],
   "source": [
    "import os\n",
    "cwd = os.getcwd()\n",
    "root = os.path.dirname(os.path.dirname(cwd))\n",
    "import sys\n",
    "sys.path.append(root)\n",
    "\n",
    "print(\"cwd  : \", cwd)\n",
    "print(\"root : \", root)"
   ]
  },
  {
   "cell_type": "code",
   "execution_count": 2,
   "id": "53ddeae9-9f48-4924-89d9-ba045b069c0f",
   "metadata": {},
   "outputs": [],
   "source": [
    "from src.libs.utils import load_input_lines"
   ]
  },
  {
   "cell_type": "markdown",
   "id": "0dfb9104-1c92-481d-bb66-279774315bc8",
   "metadata": {},
   "source": [
    "#### Part 1 Sample"
   ]
  },
  {
   "cell_type": "code",
   "execution_count": 10,
   "id": "7b0d9dd6-bca9-4224-b21c-ce3396bd6893",
   "metadata": {},
   "outputs": [
    {
     "name": "stdout",
     "output_type": "stream",
     "text": [
      "7 6 4 2 1\n",
      "1 2 7 8 9\n",
      "9 7 6 2 1\n",
      "1 3 2 4 5\n",
      "8 6 4 4 1\n",
      "1 3 6 7 9\n"
     ]
    }
   ],
   "source": [
    "input_file = \"input1.txt\"\n",
    "ex1_data = load_input_lines(os.path.join(cwd, \"inputs\", input_file))\n",
    "allowed_diffs = [1, 2, 3]\n",
    "ex1_expected = 2"
   ]
  },
  {
   "cell_type": "code",
   "execution_count": 13,
   "id": "b48b71be-f4ad-47e5-9b14-be6126cfee91",
   "metadata": {},
   "outputs": [],
   "source": [
    "def isValidPair(pair, diffs, isIncrease):\n",
    "    if pair[0] == pair[1]:\n",
    "        return False\n",
    "    elif (pair[0] < pair[1]) != isIncrease:\n",
    "        return False\n",
    "    elif abs(pair[0] - pair[1]) not in diffs:\n",
    "        return False\n",
    "    else:\n",
    "        return True"
   ]
  },
  {
   "cell_type": "code",
   "execution_count": 18,
   "id": "a7cd1d86-495b-4b54-81e0-41138031fa93",
   "metadata": {},
   "outputs": [
    {
     "data": {
      "text/plain": [
       "2"
      ]
     },
     "execution_count": 18,
     "metadata": {},
     "output_type": "execute_result"
    }
   ],
   "source": [
    "ex1_data1 = 0\n",
    "for slevels in ex1_data:\n",
    "    levels = [int(level) for level in slevels.split(\" \")]\n",
    "    pairs = [item for item in zip(levels[:-1], levels[1:])]\n",
    "    isIncrease = pairs[0][0] < pairs[0][1]\n",
    "    for pair in pairs:\n",
    "        if not isValidPair(pair, allowed_diffs, isIncrease):\n",
    "            break\n",
    "    else:\n",
    "        ex1_data1 += 1\n",
    "ex1_data1"
   ]
  },
  {
   "cell_type": "code",
   "execution_count": 15,
   "id": "3e6183bd-9461-4621-b31f-658b76df4460",
   "metadata": {},
   "outputs": [
    {
     "data": {
      "text/plain": [
       "True"
      ]
     },
     "execution_count": 15,
     "metadata": {},
     "output_type": "execute_result"
    }
   ],
   "source": [
    "ex1_data1 == ex1_expected"
   ]
  },
  {
   "cell_type": "markdown",
   "id": "3b965ce0-8325-4f83-842d-6b7c92f157e0",
   "metadata": {},
   "source": [
    "### Part 1 Sample Output : 2"
   ]
  },
  {
   "cell_type": "markdown",
   "id": "4144ff79-1269-496a-93b6-dbc01e053281",
   "metadata": {},
   "source": [
    "### Part 1"
   ]
  },
  {
   "cell_type": "code",
   "execution_count": 16,
   "id": "29f3cb7f-415b-428d-936f-ac54e660e4a0",
   "metadata": {},
   "outputs": [
    {
     "name": "stdout",
     "output_type": "stream",
     "text": [
      "44 47 50 51 53 54 53\n",
      "70 73 75 77 80 81 84 84\n",
      "1 3 4 7 10 13 16 20\n",
      "47 49 52 53 55 57 60 65\n",
      "69 70 71 70 71\n",
      "22 23 20 21 24 27 24\n",
      "90 92 93 94 95 93 94 94\n",
      "16 18 15 16 20\n",
      "47 48 51 50 55\n",
      "27 28 31 31 32 34\n",
      "35 36 36 38 39 41 38\n",
      ".\n",
      ".\n",
      ".\n",
      "\n",
      "990 rows more.\n"
     ]
    }
   ],
   "source": [
    "input_file = \"input2.txt\"\n",
    "p1_data = load_input_lines(os.path.join(cwd, \"inputs\", input_file))"
   ]
  },
  {
   "cell_type": "code",
   "execution_count": 19,
   "id": "f333c6a6-8d86-4a9e-9d02-315d899b5f83",
   "metadata": {},
   "outputs": [
    {
     "data": {
      "text/plain": [
       "591"
      ]
     },
     "execution_count": 19,
     "metadata": {},
     "output_type": "execute_result"
    }
   ],
   "source": [
    "p1_data1 = 0\n",
    "for slevels in p1_data:\n",
    "    levels = [int(level) for level in slevels.split(\" \")]\n",
    "    pairs = [item for item in zip(levels[:-1], levels[1:])]\n",
    "    isIncrease = pairs[0][0] < pairs[0][1]\n",
    "    for pair in pairs:\n",
    "        if not isValidPair(pair, allowed_diffs, isIncrease):\n",
    "            break\n",
    "    else:\n",
    "        p1_data1 += 1\n",
    "p1_data1"
   ]
  },
  {
   "cell_type": "markdown",
   "id": "b1324114-119f-4cb8-81c1-ddb3d6d05a4d",
   "metadata": {},
   "source": [
    "### Part 1 Output : 591"
   ]
  },
  {
   "cell_type": "markdown",
   "id": "39b4bb0c-b91d-4078-8a74-3dc0310748dd",
   "metadata": {},
   "source": [
    "### Part 2 Sample"
   ]
  },
  {
   "cell_type": "code",
   "execution_count": 20,
   "id": "467e5939-aaa2-4bab-bcb6-2ed603cd6672",
   "metadata": {},
   "outputs": [
    {
     "name": "stdout",
     "output_type": "stream",
     "text": [
      "7 6 4 2 1\n",
      "1 2 7 8 9\n",
      "9 7 6 2 1\n",
      "1 3 2 4 5\n",
      "8 6 4 4 1\n",
      "1 3 6 7 9\n"
     ]
    }
   ],
   "source": [
    "input_file = \"input1.txt\"\n",
    "ex2_data = load_input_lines(os.path.join(cwd, \"inputs\", input_file))\n",
    "ex2_expected = 4"
   ]
  },
  {
   "cell_type": "code",
   "execution_count": 21,
   "id": "57e91ac7-af7a-4b42-b83f-b6401011e9a1",
   "metadata": {},
   "outputs": [],
   "source": [
    "def isSafeLevel(levels):\n",
    "    pairs = [item for item in zip(levels[:-1], levels[1:])]\n",
    "    isIncrease = pairs[0][0] < pairs[0][1]\n",
    "    for pair in pairs:\n",
    "        if not isValidPair(pair, allowed_diffs, isIncrease):\n",
    "            return False\n",
    "    else:\n",
    "        return True"
   ]
  },
  {
   "cell_type": "code",
   "execution_count": 23,
   "id": "6bdc6cee-53b6-4fdf-adb3-9b17ebb84cd6",
   "metadata": {},
   "outputs": [
    {
     "data": {
      "text/plain": [
       "4"
      ]
     },
     "execution_count": 23,
     "metadata": {},
     "output_type": "execute_result"
    }
   ],
   "source": [
    "ex2_data1 = 0\n",
    "for slevels in ex2_data:\n",
    "    levels = [int(level) for level in slevels.split(\" \")]\n",
    "    isSafe = []\n",
    "    for skipIndx in range(-1, len(levels)):\n",
    "        check_level = [item for idx, item in enumerate(levels) if idx != skipIndx]\n",
    "        isSafe.append(isSafeLevel(check_level))\n",
    "    if any(isSafe):\n",
    "        ex2_data1 += 1\n",
    "ex2_data1"
   ]
  },
  {
   "cell_type": "code",
   "execution_count": 24,
   "id": "d075a786-1dd5-4fa7-a3cb-b3b439806458",
   "metadata": {},
   "outputs": [
    {
     "data": {
      "text/plain": [
       "True"
      ]
     },
     "execution_count": 24,
     "metadata": {},
     "output_type": "execute_result"
    }
   ],
   "source": [
    "ex2_data1 == ex2_expected"
   ]
  },
  {
   "cell_type": "markdown",
   "id": "e67019e9-e343-430c-a350-c2c5716bff06",
   "metadata": {},
   "source": [
    "### Part 2 Sample Output : 4"
   ]
  },
  {
   "cell_type": "markdown",
   "id": "8fb7aa65-6dab-4673-9629-3dcea4a4ef70",
   "metadata": {},
   "source": [
    "### Part 2"
   ]
  },
  {
   "cell_type": "code",
   "execution_count": 25,
   "id": "768fd5da-8ad6-4912-98c1-06cbb7174f27",
   "metadata": {},
   "outputs": [
    {
     "name": "stdout",
     "output_type": "stream",
     "text": [
      "44 47 50 51 53 54 53\n",
      "70 73 75 77 80 81 84 84\n",
      "1 3 4 7 10 13 16 20\n",
      "47 49 52 53 55 57 60 65\n",
      "69 70 71 70 71\n",
      "22 23 20 21 24 27 24\n",
      "90 92 93 94 95 93 94 94\n",
      "16 18 15 16 20\n",
      "47 48 51 50 55\n",
      "27 28 31 31 32 34\n",
      "35 36 36 38 39 41 38\n",
      ".\n",
      ".\n",
      ".\n",
      "\n",
      "990 rows more.\n"
     ]
    }
   ],
   "source": [
    "input_file = \"input2.txt\"\n",
    "p2_data = load_input_lines(os.path.join(cwd, \"inputs\", input_file))"
   ]
  },
  {
   "cell_type": "code",
   "execution_count": 26,
   "id": "d5b3d8bc-a16d-4e1d-9fed-5110afbbe564",
   "metadata": {},
   "outputs": [
    {
     "data": {
      "text/plain": [
       "621"
      ]
     },
     "execution_count": 26,
     "metadata": {},
     "output_type": "execute_result"
    }
   ],
   "source": [
    "p2_data1 = 0\n",
    "for slevels in p2_data:\n",
    "    levels = [int(level) for level in slevels.split(\" \")]\n",
    "    isSafe = []\n",
    "    for skipIndx in range(-1, len(levels)):\n",
    "        check_level = [item for idx, item in enumerate(levels) if idx != skipIndx]\n",
    "        isSafe.append(isSafeLevel(check_level))\n",
    "    if any(isSafe):\n",
    "        p2_data1 += 1\n",
    "p2_data1"
   ]
  },
  {
   "cell_type": "markdown",
   "id": "2da0f4ab-9319-44eb-b2dd-aaad77a30be9",
   "metadata": {},
   "source": [
    "### Part 2 Output : 621"
   ]
  }
 ],
 "metadata": {
  "kernelspec": {
   "display_name": "Python 3 (ipykernel)",
   "language": "python",
   "name": "python3"
  },
  "language_info": {
   "codemirror_mode": {
    "name": "ipython",
    "version": 3
   },
   "file_extension": ".py",
   "mimetype": "text/x-python",
   "name": "python",
   "nbconvert_exporter": "python",
   "pygments_lexer": "ipython3",
   "version": "3.12.3"
  }
 },
 "nbformat": 4,
 "nbformat_minor": 5
}
