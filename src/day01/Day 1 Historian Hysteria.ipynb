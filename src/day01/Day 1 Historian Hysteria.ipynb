{
 "cells": [
  {
   "cell_type": "code",
   "execution_count": 36,
   "id": "7e82f365-c6aa-42f8-92f6-e27455bd2bbd",
   "metadata": {},
   "outputs": [
    {
     "name": "stdout",
     "output_type": "stream",
     "text": [
      "cwd  :  /home/rahulsunita/workspace/adventofcode-2024/src/day01\n",
      "root :  /home/rahulsunita/workspace/adventofcode-2024\n"
     ]
    }
   ],
   "source": [
    "import os\n",
    "cwd = os.getcwd()\n",
    "root = os.path.dirname(os.path.dirname(cwd))\n",
    "import sys\n",
    "sys.path.append(root)\n",
    "\n",
    "print(\"cwd  : \", cwd)\n",
    "print(\"root : \", root)"
   ]
  },
  {
   "cell_type": "code",
   "execution_count": 37,
   "id": "53ddeae9-9f48-4924-89d9-ba045b069c0f",
   "metadata": {},
   "outputs": [],
   "source": [
    "from src.libs.utils import load_input_lines"
   ]
  },
  {
   "cell_type": "markdown",
   "id": "0dfb9104-1c92-481d-bb66-279774315bc8",
   "metadata": {},
   "source": [
    "#### Part 1 Sample"
   ]
  },
  {
   "cell_type": "code",
   "execution_count": 38,
   "id": "7b0d9dd6-bca9-4224-b21c-ce3396bd6893",
   "metadata": {},
   "outputs": [
    {
     "name": "stdout",
     "output_type": "stream",
     "text": [
      "3   4\n",
      "4   3\n",
      "2   5\n",
      "1   3\n",
      "3   9\n",
      "3   3\n"
     ]
    }
   ],
   "source": [
    "input_file = \"input1.txt\"\n",
    "ex1_data = load_input_lines(os.path.join(cwd, \"inputs\", input_file))\n",
    "ex1_expected = 11"
   ]
  },
  {
   "cell_type": "code",
   "execution_count": 39,
   "id": "db144eab-3503-40a6-a397-dcfc317281fc",
   "metadata": {},
   "outputs": [
    {
     "data": {
      "text/plain": [
       "[[1, 2, 3, 3, 3, 4], [3, 3, 3, 4, 5, 9]]"
      ]
     },
     "execution_count": 39,
     "metadata": {},
     "output_type": "execute_result"
    }
   ],
   "source": [
    "ex1_data1 = [[],[]]\n",
    "for item in ex1_data:\n",
    "    nleft,nright = item.split(\"   \")\n",
    "    nleft,nright = int(nleft.strip()),int(nright.strip())\n",
    "    ex1_data1[0].append(nleft)\n",
    "    ex1_data1[1].append(nright)\n",
    "ex1_data1[0].sort()\n",
    "ex1_data1[1].sort()\n",
    "ex1_data1"
   ]
  },
  {
   "cell_type": "code",
   "execution_count": 40,
   "id": "df44571c-e6a7-434b-a792-ce40000e731f",
   "metadata": {},
   "outputs": [
    {
     "data": {
      "text/plain": [
       "[2, 1, 0, 1, 2, 5]"
      ]
     },
     "execution_count": 40,
     "metadata": {},
     "output_type": "execute_result"
    }
   ],
   "source": [
    "ex1_data2 = [abs(item1 - item2) for item1, item2 in zip(ex1_data1[0], ex1_data1[1])]\n",
    "ex1_data2"
   ]
  },
  {
   "cell_type": "code",
   "execution_count": 41,
   "id": "d3935d96-4114-427f-a413-ac1af4b7544d",
   "metadata": {},
   "outputs": [
    {
     "data": {
      "text/plain": [
       "11"
      ]
     },
     "execution_count": 41,
     "metadata": {},
     "output_type": "execute_result"
    }
   ],
   "source": [
    "ex1_data3 = sum(ex1_data2)\n",
    "ex1_data3"
   ]
  },
  {
   "cell_type": "code",
   "execution_count": 42,
   "id": "3e6183bd-9461-4621-b31f-658b76df4460",
   "metadata": {},
   "outputs": [
    {
     "data": {
      "text/plain": [
       "True"
      ]
     },
     "execution_count": 42,
     "metadata": {},
     "output_type": "execute_result"
    }
   ],
   "source": [
    "ex1_data3 == ex1_expected"
   ]
  },
  {
   "cell_type": "markdown",
   "id": "3b965ce0-8325-4f83-842d-6b7c92f157e0",
   "metadata": {},
   "source": [
    "### Part 1 Sample Output : 11"
   ]
  },
  {
   "cell_type": "markdown",
   "id": "4144ff79-1269-496a-93b6-dbc01e053281",
   "metadata": {},
   "source": [
    "### Part 1"
   ]
  },
  {
   "cell_type": "code",
   "execution_count": 43,
   "id": "9ae1837d-3e7e-4450-9323-1cd7f5d4f77e",
   "metadata": {},
   "outputs": [
    {
     "name": "stdout",
     "output_type": "stream",
     "text": [
      "64256   78813\n",
      "46941   56838\n",
      "47111   50531\n",
      "48819   41511\n",
      "54871   96958\n",
      "97276   63446\n",
      "91790   76995\n",
      "51405   43195\n",
      "99980   46417\n",
      "74608   18059\n",
      "26255   90566\n",
      ".\n",
      ".\n",
      ".\n",
      "\n",
      "990 rows more.\n"
     ]
    }
   ],
   "source": [
    "input_file = \"input2.txt\"\n",
    "p1_data = load_input_lines(os.path.join(cwd, \"inputs\", input_file))"
   ]
  },
  {
   "cell_type": "code",
   "execution_count": 44,
   "id": "c4ff390e-b6d6-4f10-a307-b27ed9d65b1e",
   "metadata": {},
   "outputs": [
    {
     "name": "stdout",
     "output_type": "stream",
     "text": [
      "10030   10155\n",
      "10065   10254\n",
      "10146   10338\n",
      "10187   10519\n",
      "10193   11046\n",
      "10216   11155\n",
      "10250   11211\n",
      "10273   11257\n",
      "10283   11257\n",
      "10324   11257\n",
      "10465   11257\n",
      ".\n",
      ".\n",
      ".\n",
      "\n",
      "990 rows more.\n"
     ]
    }
   ],
   "source": [
    "p1_data1 = [[],[]]\n",
    "for item in p1_data:\n",
    "    nleft,nright = item.split(\"   \")\n",
    "    nleft,nright = int(nleft.strip()),int(nright.strip())\n",
    "    p1_data1[0].append(nleft)\n",
    "    p1_data1[1].append(nright)\n",
    "p1_data1[0].sort()\n",
    "p1_data1[1].sort()\n",
    "\n",
    "nCount = 10\n",
    "count = 0\n",
    "for item1, item2 in zip(p1_data1[0], p1_data1[1]):\n",
    "    count += 1\n",
    "    print(item1, \" \",item2)\n",
    "    if count > nCount:\n",
    "        print(\".\\n.\\n.\\n\\n{} rows more.\".format(len(p1_data1[0]) - nCount))\n",
    "        break"
   ]
  },
  {
   "cell_type": "code",
   "execution_count": 45,
   "id": "48d5928d-a08b-4759-8951-f0893078692e",
   "metadata": {},
   "outputs": [
    {
     "name": "stdout",
     "output_type": "stream",
     "text": [
      "125\n",
      "189\n",
      "192\n",
      "332\n",
      "853\n",
      "939\n",
      "961\n",
      "984\n",
      "974\n",
      "933\n",
      "792\n",
      ".\n",
      ".\n",
      ".\n",
      "\n",
      "990 rows more.\n"
     ]
    }
   ],
   "source": [
    "p1_data2 = [abs(item1 - item2) for item1, item2 in zip(p1_data1[0], p1_data1[1])]\n",
    "\n",
    "nCount = 10\n",
    "count = 0\n",
    "for item1 in p1_data2:\n",
    "    count += 1\n",
    "    print(item1)\n",
    "    if count > nCount:\n",
    "        print(\".\\n.\\n.\\n\\n{} rows more.\".format(len(p1_data2) - nCount))\n",
    "        break"
   ]
  },
  {
   "cell_type": "code",
   "execution_count": 46,
   "id": "dab0d1ff-119f-4f74-910c-4acdd7fe91d6",
   "metadata": {},
   "outputs": [
    {
     "data": {
      "text/plain": [
       "2166959"
      ]
     },
     "execution_count": 46,
     "metadata": {},
     "output_type": "execute_result"
    }
   ],
   "source": [
    "p1_data3 = sum(p1_data2)\n",
    "p1_data3"
   ]
  },
  {
   "cell_type": "markdown",
   "id": "b1324114-119f-4cb8-81c1-ddb3d6d05a4d",
   "metadata": {},
   "source": [
    "### Part 1 Output : 2166959"
   ]
  },
  {
   "cell_type": "markdown",
   "id": "39b4bb0c-b91d-4078-8a74-3dc0310748dd",
   "metadata": {},
   "source": [
    "### Part 2 Sample"
   ]
  },
  {
   "cell_type": "code",
   "execution_count": 47,
   "id": "b0bfca2e-eef7-4bba-b5cf-6a85aa311351",
   "metadata": {},
   "outputs": [
    {
     "name": "stdout",
     "output_type": "stream",
     "text": [
      "3   4\n",
      "4   3\n",
      "2   5\n",
      "1   3\n",
      "3   9\n",
      "3   3\n"
     ]
    }
   ],
   "source": [
    "input_file = \"input1.txt\"\n",
    "ex2_data = load_input_lines(os.path.join(cwd, \"inputs\", input_file))\n",
    "ex2_expected = 31"
   ]
  },
  {
   "cell_type": "code",
   "execution_count": 48,
   "id": "c8d2a0af-9d9d-4944-b9fc-e40f20b98fda",
   "metadata": {},
   "outputs": [
    {
     "data": {
      "text/plain": [
       "[[3, 4, 2, 1, 3, 3], [4, 3, 5, 3, 9, 3]]"
      ]
     },
     "execution_count": 48,
     "metadata": {},
     "output_type": "execute_result"
    }
   ],
   "source": [
    "ex2_data1 = [[],[]]\n",
    "for item in ex2_data:\n",
    "    nleft,nright = item.split(\"   \")\n",
    "    nleft,nright = int(nleft.strip()),int(nright.strip())\n",
    "    ex2_data1[0].append(nleft)\n",
    "    ex2_data1[1].append(nright)\n",
    "ex2_data1"
   ]
  },
  {
   "cell_type": "code",
   "execution_count": 49,
   "id": "2b1e9ab9-752d-47c8-94d4-f148308708bc",
   "metadata": {},
   "outputs": [
    {
     "data": {
      "text/plain": [
       "[9, 4, 0, 0, 9, 9]"
      ]
     },
     "execution_count": 49,
     "metadata": {},
     "output_type": "execute_result"
    }
   ],
   "source": [
    "ex2_data2 = [item * ex2_data1[1].count(item) for item in ex2_data1[0]]\n",
    "ex2_data2"
   ]
  },
  {
   "cell_type": "code",
   "execution_count": 50,
   "id": "6bdc6cee-53b6-4fdf-adb3-9b17ebb84cd6",
   "metadata": {},
   "outputs": [
    {
     "data": {
      "text/plain": [
       "31"
      ]
     },
     "execution_count": 50,
     "metadata": {},
     "output_type": "execute_result"
    }
   ],
   "source": [
    "ex2_data3 = sum(ex2_data2)\n",
    "ex2_data3"
   ]
  },
  {
   "cell_type": "code",
   "execution_count": 51,
   "id": "7f1470fe-1df3-4716-bf50-c87c4e767573",
   "metadata": {},
   "outputs": [
    {
     "data": {
      "text/plain": [
       "True"
      ]
     },
     "execution_count": 51,
     "metadata": {},
     "output_type": "execute_result"
    }
   ],
   "source": [
    "ex2_data3 == ex2_expected"
   ]
  },
  {
   "cell_type": "markdown",
   "id": "e67019e9-e343-430c-a350-c2c5716bff06",
   "metadata": {},
   "source": [
    "### Part 2 Sample Output : 31"
   ]
  },
  {
   "cell_type": "markdown",
   "id": "8fb7aa65-6dab-4673-9629-3dcea4a4ef70",
   "metadata": {},
   "source": [
    "### Part 2"
   ]
  },
  {
   "cell_type": "code",
   "execution_count": 52,
   "id": "beb919d6-d80d-4e52-b0d2-962437378993",
   "metadata": {},
   "outputs": [
    {
     "name": "stdout",
     "output_type": "stream",
     "text": [
      "64256   78813\n",
      "46941   56838\n",
      "47111   50531\n",
      "48819   41511\n",
      "54871   96958\n",
      "97276   63446\n",
      "91790   76995\n",
      "51405   43195\n",
      "99980   46417\n",
      "74608   18059\n",
      "26255   90566\n",
      ".\n",
      ".\n",
      ".\n",
      "\n",
      "990 rows more.\n"
     ]
    }
   ],
   "source": [
    "input_file = \"input2.txt\"\n",
    "p2_data = load_input_lines(os.path.join(cwd, \"inputs\", input_file))"
   ]
  },
  {
   "cell_type": "code",
   "execution_count": 53,
   "id": "15fbb2e2-0fa3-4514-b09c-7bcf51512695",
   "metadata": {},
   "outputs": [
    {
     "name": "stdout",
     "output_type": "stream",
     "text": [
      "64256   78813\n",
      "46941   56838\n",
      "47111   50531\n",
      "48819   41511\n",
      "54871   96958\n",
      "97276   63446\n",
      "91790   76995\n",
      "51405   43195\n",
      "99980   46417\n",
      "74608   18059\n",
      "26255   90566\n",
      ".\n",
      ".\n",
      ".\n",
      "\n",
      "990 rows more.\n"
     ]
    }
   ],
   "source": [
    "p2_data1 = [[],[]]\n",
    "for item in p2_data:\n",
    "    nleft,nright = item.split(\"   \")\n",
    "    nleft,nright = int(nleft.strip()),int(nright.strip())\n",
    "    p2_data1[0].append(nleft)\n",
    "    p2_data1[1].append(nright)\n",
    "\n",
    "nCount = 10\n",
    "count = 0\n",
    "for item1, item2 in zip(p2_data1[0], p2_data1[1]):\n",
    "    count += 1\n",
    "    print(item1, \" \",item2)\n",
    "    if count > nCount:\n",
    "        print(\".\\n.\\n.\\n\\n{} rows more.\".format(len(p2_data1[0]) - nCount))\n",
    "        break"
   ]
  },
  {
   "cell_type": "code",
   "execution_count": 54,
   "id": "06cd5012-375c-4633-ad44-9d23be6c4d00",
   "metadata": {},
   "outputs": [
    {
     "name": "stdout",
     "output_type": "stream",
     "text": [
      "0\n",
      "0\n",
      "0\n",
      "0\n",
      "0\n",
      "0\n",
      "0\n",
      "0\n",
      "0\n",
      "0\n",
      "0\n",
      ".\n",
      ".\n",
      ".\n",
      "\n",
      "990 rows more.\n"
     ]
    }
   ],
   "source": [
    "p2_data2 = [item * p2_data1[1].count(item) for item in p2_data1[0]]\n",
    "\n",
    "nCount = 10\n",
    "count = 0\n",
    "for item1 in p2_data2:\n",
    "    count += 1\n",
    "    print(item1)\n",
    "    if count > nCount:\n",
    "        print(\".\\n.\\n.\\n\\n{} rows more.\".format(len(p2_data2) - nCount))\n",
    "        break"
   ]
  },
  {
   "cell_type": "code",
   "execution_count": 55,
   "id": "d5b3d8bc-a16d-4e1d-9fed-5110afbbe564",
   "metadata": {},
   "outputs": [
    {
     "data": {
      "text/plain": [
       "23741109"
      ]
     },
     "execution_count": 55,
     "metadata": {},
     "output_type": "execute_result"
    }
   ],
   "source": [
    "p2_data3 = sum(p2_data2)\n",
    "p2_data3"
   ]
  },
  {
   "cell_type": "markdown",
   "id": "2da0f4ab-9319-44eb-b2dd-aaad77a30be9",
   "metadata": {},
   "source": [
    "### Part 2 Output : 23741109"
   ]
  },
  {
   "cell_type": "code",
   "execution_count": null,
   "id": "eae4c170-6a1c-4df3-bee8-f53e0ac85b3c",
   "metadata": {},
   "outputs": [],
   "source": []
  }
 ],
 "metadata": {
  "kernelspec": {
   "display_name": "Python 3 (ipykernel)",
   "language": "python",
   "name": "python3"
  },
  "language_info": {
   "codemirror_mode": {
    "name": "ipython",
    "version": 3
   },
   "file_extension": ".py",
   "mimetype": "text/x-python",
   "name": "python",
   "nbconvert_exporter": "python",
   "pygments_lexer": "ipython3",
   "version": "3.12.3"
  }
 },
 "nbformat": 4,
 "nbformat_minor": 5
}
