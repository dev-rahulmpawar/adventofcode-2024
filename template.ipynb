{
 "cells": [
  {
   "cell_type": "code",
   "execution_count": 1,
   "id": "7e82f365-c6aa-42f8-92f6-e27455bd2bbd",
   "metadata": {},
   "outputs": [
    {
     "name": "stdout",
     "output_type": "stream",
     "text": [
      "cwd  :  /home/rahulsunita/workspace/adventofcode-2024/src/day01\n",
      "root :  /home/rahulsunita/workspace/adventofcode-2024\n"
     ]
    }
   ],
   "source": [
    "import os\n",
    "cwd = os.getcwd()\n",
    "root = os.path.dirname(os.path.dirname(cwd))\n",
    "import sys\n",
    "sys.path.append(root)\n",
    "\n",
    "print(\"cwd  : \", cwd)\n",
    "print(\"root : \", root)"
   ]
  },
  {
   "cell_type": "code",
   "execution_count": 3,
   "id": "53ddeae9-9f48-4924-89d9-ba045b069c0f",
   "metadata": {},
   "outputs": [],
   "source": [
    "from src.libs.utils import load_input_lines"
   ]
  },
  {
   "cell_type": "markdown",
   "id": "0dfb9104-1c92-481d-bb66-279774315bc8",
   "metadata": {},
   "source": [
    "#### Part 1 Sample"
   ]
  },
  {
   "cell_type": "code",
   "execution_count": null,
   "id": "7b0d9dd6-bca9-4224-b21c-ce3396bd6893",
   "metadata": {},
   "outputs": [],
   "source": [
    "input_file = \"input1.txt\"\n",
    "ex1_data = load_input_lines(os.path.join(cwd, \"inputs\", input_file))\n",
    "ex1_expected = 4361"
   ]
  },
  {
   "cell_type": "code",
   "execution_count": null,
   "id": "d3935d96-4114-427f-a413-ac1af4b7544d",
   "metadata": {},
   "outputs": [],
   "source": [
    "ex1_data3 = sum(ex1_data2)\n",
    "ex1_data3"
   ]
  },
  {
   "cell_type": "code",
   "execution_count": null,
   "id": "3e6183bd-9461-4621-b31f-658b76df4460",
   "metadata": {},
   "outputs": [],
   "source": [
    "ex1_data3 == ex1_expected"
   ]
  },
  {
   "cell_type": "markdown",
   "id": "3b965ce0-8325-4f83-842d-6b7c92f157e0",
   "metadata": {},
   "source": [
    "### Part 1 Sample Output : N"
   ]
  },
  {
   "cell_type": "markdown",
   "id": "4144ff79-1269-496a-93b6-dbc01e053281",
   "metadata": {},
   "source": [
    "### Part 1"
   ]
  },
  {
   "cell_type": "code",
   "execution_count": null,
   "id": "29f3cb7f-415b-428d-936f-ac54e660e4a0",
   "metadata": {},
   "outputs": [],
   "source": [
    "input_file = \"input2.txt\"\n",
    "p1_data = load_input_lines(os.path.join(cwd, \"inputs\", input_file))"
   ]
  },
  {
   "cell_type": "code",
   "execution_count": null,
   "id": "dab0d1ff-119f-4f74-910c-4acdd7fe91d6",
   "metadata": {},
   "outputs": [],
   "source": [
    "p1_data4 = sum(p1_data3)\n",
    "p1_data4"
   ]
  },
  {
   "cell_type": "markdown",
   "id": "b1324114-119f-4cb8-81c1-ddb3d6d05a4d",
   "metadata": {},
   "source": [
    "### Part 1 Output : N"
   ]
  },
  {
   "cell_type": "markdown",
   "id": "39b4bb0c-b91d-4078-8a74-3dc0310748dd",
   "metadata": {},
   "source": [
    "### Part 2 Sample"
   ]
  },
  {
   "cell_type": "code",
   "execution_count": null,
   "id": "467e5939-aaa2-4bab-bcb6-2ed603cd6672",
   "metadata": {},
   "outputs": [],
   "source": [
    "input_file = \"input1.txt\"\n",
    "ex2_data = load_input_lines(os.path.join(cwd, \"inputs\", input_file))\n",
    "ex2_expected = 31"
   ]
  },
  {
   "cell_type": "code",
   "execution_count": null,
   "id": "6bdc6cee-53b6-4fdf-adb3-9b17ebb84cd6",
   "metadata": {},
   "outputs": [],
   "source": [
    "ex2_data3 = sum(ex2_data5.keys())\n",
    "ex2_data3"
   ]
  },
  {
   "cell_type": "code",
   "execution_count": null,
   "id": "d075a786-1dd5-4fa7-a3cb-b3b439806458",
   "metadata": {},
   "outputs": [],
   "source": [
    "ex2_data3 == ex2_expected"
   ]
  },
  {
   "cell_type": "markdown",
   "id": "e67019e9-e343-430c-a350-c2c5716bff06",
   "metadata": {},
   "source": [
    "### Part 2 Sample Output : N"
   ]
  },
  {
   "cell_type": "markdown",
   "id": "8fb7aa65-6dab-4673-9629-3dcea4a4ef70",
   "metadata": {},
   "source": [
    "### Part 2"
   ]
  },
  {
   "cell_type": "code",
   "execution_count": null,
   "id": "768fd5da-8ad6-4912-98c1-06cbb7174f27",
   "metadata": {},
   "outputs": [],
   "source": [
    "input_file = \"input2.txt\"\n",
    "p2_data = load_input_lines(os.path.join(cwd, \"inputs\", input_file))"
   ]
  },
  {
   "cell_type": "code",
   "execution_count": null,
   "id": "d5b3d8bc-a16d-4e1d-9fed-5110afbbe564",
   "metadata": {},
   "outputs": [],
   "source": [
    "p2_data6 = sum(p2_data5.keys())\n",
    "p2_data6"
   ]
  },
  {
   "cell_type": "markdown",
   "id": "2da0f4ab-9319-44eb-b2dd-aaad77a30be9",
   "metadata": {},
   "source": [
    "### Part 2 Output : N"
   ]
  }
 ],
 "metadata": {
  "kernelspec": {
   "display_name": "Python 3 (ipykernel)",
   "language": "python",
   "name": "python3"
  },
  "language_info": {
   "codemirror_mode": {
    "name": "ipython",
    "version": 3
   },
   "file_extension": ".py",
   "mimetype": "text/x-python",
   "name": "python",
   "nbconvert_exporter": "python",
   "pygments_lexer": "ipython3",
   "version": "3.12.3"
  }
 },
 "nbformat": 4,
 "nbformat_minor": 5
}
