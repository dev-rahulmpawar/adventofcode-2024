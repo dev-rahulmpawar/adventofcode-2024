{
 "cells": [
  {
   "cell_type": "code",
   "execution_count": 1,
   "id": "7e82f365-c6aa-42f8-92f6-e27455bd2bbd",
   "metadata": {},
   "outputs": [
    {
     "name": "stdout",
     "output_type": "stream",
     "text": [
      "cwd  :  /home/rahulsunita/workspace/adventofcode-2024\n",
      "root :  /home/rahulsunita\n"
     ]
    }
   ],
   "source": [
    "import os\n",
    "cwd = os.getcwd()\n",
    "root = os.path.dirname(os.path.dirname(cwd))\n",
    "import sys\n",
    "sys.path.append(root)\n",
    "\n",
    "print(\"cwd  : \", cwd)\n",
    "print(\"root : \", root)"
   ]
  },
  {
   "cell_type": "code",
   "execution_count": 2,
   "id": "53ddeae9-9f48-4924-89d9-ba045b069c0f",
   "metadata": {},
   "outputs": [
    {
     "name": "stdout",
     "output_type": "stream",
     "text": [
      "['listFuncs', 'load_input_lines', 'printDict', 'printItem', 'printMultiItemList', 'printSingleItemList']\n",
      "['Cell', 'IndexedCell', 'IndexedMatrix', 'Matrix', 'six']\n"
     ]
    }
   ],
   "source": [
    "import six\n",
    "import copy\n",
    "from src.libs.utils import *\n",
    "from src.libs.matrix_ds import *"
   ]
  },
  {
   "cell_type": "markdown",
   "id": "ad783591-42da-4850-b07c-a6a90150100d",
   "metadata": {},
   "source": [
    "### Run Config"
   ]
  },
  {
   "cell_type": "code",
   "execution_count": 3,
   "id": "86882b53-6197-4f09-bd8e-a18e846ed79f",
   "metadata": {},
   "outputs": [],
   "source": [
    "run_types = [\"Sample\"]\n",
    "#run_types = [\"Sample\", \"Main\"]\n",
    "input_file = {\"Sample\": \"input1.txt\", \"Main\": \"input2.txt\"}"
   ]
  },
  {
   "cell_type": "markdown",
   "id": "0dfb9104-1c92-481d-bb66-279774315bc8",
   "metadata": {},
   "source": [
    "### Part 1"
   ]
  },
  {
   "cell_type": "code",
   "execution_count": null,
   "id": "7b0d9dd6-bca9-4224-b21c-ce3396bd6893",
   "metadata": {},
   "outputs": [],
   "source": [
    "# Load data\n",
    "p1_data_d = {}\n",
    "for run_type in run_types:\n",
    "    p1_data_d[run_type] = load_input_lines(os.path.join(cwd, \"inputs\", input_file[run_type]), label=run_type)\n",
    "p1_expected = 143"
   ]
  },
  {
   "cell_type": "code",
   "execution_count": null,
   "id": "d3935d96-4114-427f-a413-ac1af4b7544d",
   "metadata": {},
   "outputs": [],
   "source": [
    "# get the sum\n",
    "p1_data4_d = {}\n",
    "for run_type in run_types:\n",
    "    p1_data4_d[run_type] = sum(p1_data3_pages_d[run_type])\n",
    "    printItem(p1_data4_d[run_type], label=f\"Total : {run_type}\")"
   ]
  },
  {
   "cell_type": "code",
   "execution_count": null,
   "id": "3e6183bd-9461-4621-b31f-658b76df4460",
   "metadata": {},
   "outputs": [],
   "source": [
    "# Check for sample expected\n",
    "p1_data4_d[\"Sample\"] == p1_expected"
   ]
  },
  {
   "cell_type": "markdown",
   "id": "3b965ce0-8325-4f83-842d-6b7c92f157e0",
   "metadata": {},
   "source": [
    "#### Part 1 Sample Output : N"
   ]
  },
  {
   "cell_type": "markdown",
   "id": "b1324114-119f-4cb8-81c1-ddb3d6d05a4d",
   "metadata": {},
   "source": [
    "#### Part 1 Main Output : N"
   ]
  },
  {
   "cell_type": "markdown",
   "id": "39b4bb0c-b91d-4078-8a74-3dc0310748dd",
   "metadata": {},
   "source": [
    "### Part 2"
   ]
  },
  {
   "cell_type": "code",
   "execution_count": null,
   "id": "467e5939-aaa2-4bab-bcb6-2ed603cd6672",
   "metadata": {},
   "outputs": [],
   "source": [
    "# Load data\n",
    "p2_new_input = False\n",
    "p2_expected = 123\n",
    "\n",
    "p2_data_d = {}\n",
    "if p2_new_input:\n",
    "    for run_type in run_types:\n",
    "        p2_data_d[run_type] = load_input_lines(os.path.join(cwd, \"inputs\", input_file[run_type]), label=run_type)\n",
    "else:\n",
    "    p2_data_d = copy.deepcopy(p1_data_d)\n",
    "    for run_type in run_types:\n",
    "        printMultiItemList(p2_data_d[run_type], label=f\"Input Data : {run_type}\")"
   ]
  },
  {
   "cell_type": "code",
   "execution_count": null,
   "id": "6bdc6cee-53b6-4fdf-adb3-9b17ebb84cd6",
   "metadata": {},
   "outputs": [],
   "source": [
    "# get the sum\n",
    "p2_data5_d = {}\n",
    "for run_type in run_types:\n",
    "    p2_data5_d[run_type] = sum(p2_data4_pages_d[run_type])\n",
    "    \n",
    "    printItem(p2_data5_d[run_type], label=f\"Total : {run_type}\")"
   ]
  },
  {
   "cell_type": "code",
   "execution_count": null,
   "id": "d075a786-1dd5-4fa7-a3cb-b3b439806458",
   "metadata": {},
   "outputs": [],
   "source": [
    "# Check for sample expected\n",
    "p2_data5_d[\"Sample\"] == p2_expected"
   ]
  },
  {
   "cell_type": "markdown",
   "id": "e67019e9-e343-430c-a350-c2c5716bff06",
   "metadata": {},
   "source": [
    "#### Part 2 Sample Output : N"
   ]
  },
  {
   "cell_type": "markdown",
   "id": "2da0f4ab-9319-44eb-b2dd-aaad77a30be9",
   "metadata": {},
   "source": [
    "#### Part 2 Main Output : N"
   ]
  }
 ],
 "metadata": {
  "kernelspec": {
   "display_name": "Python 3 (ipykernel)",
   "language": "python",
   "name": "python3"
  },
  "language_info": {
   "codemirror_mode": {
    "name": "ipython",
    "version": 3
   },
   "file_extension": ".py",
   "mimetype": "text/x-python",
   "name": "python",
   "nbconvert_exporter": "python",
   "pygments_lexer": "ipython3",
   "version": "3.12.3"
  }
 },
 "nbformat": 4,
 "nbformat_minor": 5
}
